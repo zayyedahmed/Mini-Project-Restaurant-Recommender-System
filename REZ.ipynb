{
 "cells": [
  {
   "cell_type": "code",
   "execution_count": 60,
   "id": "89cac0ce-d589-40d8-8a63-af7e4d3e470b",
   "metadata": {},
   "outputs": [],
   "source": [
    "import numpy as np\n",
    "import pandas as pd\n",
    "import matplotlib.pyplot as plt\n",
    "import seaborn as sns\n",
    "import csv\n",
    "from sklearn.feature_extraction.text import CountVectorizer\n",
    "from sklearn.metrics.pairwise import cosine_similarity\n",
    "from sklearn.linear_model import LogisticRegression\n",
    "from sklearn.neighbors import KNeighborsClassifier\n",
    "from sklearn.tree import DecisionTreeClassifier\n",
    "from sklearn.ensemble import RandomForestClassifier\n",
    "from sklearn.svm import SVC\n",
    "from sklearn.naive_bayes import GaussianNB\n",
    "from sklearn.pipeline import Pipeline\n",
    "from sklearn.preprocessing import OneHotEncoder\n",
    "from sklearn.compose import ColumnTransformer\n",
    "import joblib"
   ]
  },
  {
   "cell_type": "markdown",
   "id": "d2a8a2a0-b728-473a-a8dc-7a11784cb57e",
   "metadata": {},
   "source": [
    "## Profile"
   ]
  },
  {
   "cell_type": "code",
   "execution_count": 2,
   "id": "d1f483b5-0579-4a3f-b25b-b2ddffcf8dfb",
   "metadata": {},
   "outputs": [],
   "source": [
    "prof = pd.read_csv(\"userprofile.csv\")"
   ]
  },
  {
   "cell_type": "code",
   "execution_count": 4,
   "id": "11dcd981-f643-413b-a3e2-4b45e9880bca",
   "metadata": {},
   "outputs": [
    {
     "data": {
      "text/html": [
       "<div>\n",
       "<style scoped>\n",
       "    .dataframe tbody tr th:only-of-type {\n",
       "        vertical-align: middle;\n",
       "    }\n",
       "\n",
       "    .dataframe tbody tr th {\n",
       "        vertical-align: top;\n",
       "    }\n",
       "\n",
       "    .dataframe thead th {\n",
       "        text-align: right;\n",
       "    }\n",
       "</style>\n",
       "<table border=\"1\" class=\"dataframe\">\n",
       "  <thead>\n",
       "    <tr style=\"text-align: right;\">\n",
       "      <th></th>\n",
       "      <th>userID</th>\n",
       "      <th>latitude</th>\n",
       "      <th>longitude</th>\n",
       "      <th>smoker</th>\n",
       "      <th>drink_level</th>\n",
       "      <th>dress_preference</th>\n",
       "      <th>ambience</th>\n",
       "      <th>transport</th>\n",
       "      <th>marital_status</th>\n",
       "      <th>hijos</th>\n",
       "      <th>birth_year</th>\n",
       "      <th>interest</th>\n",
       "      <th>personality</th>\n",
       "      <th>religion</th>\n",
       "      <th>activity</th>\n",
       "      <th>color</th>\n",
       "      <th>weight</th>\n",
       "      <th>budget</th>\n",
       "      <th>height</th>\n",
       "    </tr>\n",
       "  </thead>\n",
       "  <tbody>\n",
       "    <tr>\n",
       "      <th>0</th>\n",
       "      <td>U1001</td>\n",
       "      <td>22.139997</td>\n",
       "      <td>-100.978803</td>\n",
       "      <td>false</td>\n",
       "      <td>abstemious</td>\n",
       "      <td>informal</td>\n",
       "      <td>family</td>\n",
       "      <td>on foot</td>\n",
       "      <td>single</td>\n",
       "      <td>independent</td>\n",
       "      <td>1989</td>\n",
       "      <td>variety</td>\n",
       "      <td>thrifty-protector</td>\n",
       "      <td>none</td>\n",
       "      <td>student</td>\n",
       "      <td>black</td>\n",
       "      <td>69</td>\n",
       "      <td>medium</td>\n",
       "      <td>1.77</td>\n",
       "    </tr>\n",
       "    <tr>\n",
       "      <th>1</th>\n",
       "      <td>U1002</td>\n",
       "      <td>22.150087</td>\n",
       "      <td>-100.983325</td>\n",
       "      <td>false</td>\n",
       "      <td>abstemious</td>\n",
       "      <td>informal</td>\n",
       "      <td>family</td>\n",
       "      <td>public</td>\n",
       "      <td>single</td>\n",
       "      <td>independent</td>\n",
       "      <td>1990</td>\n",
       "      <td>technology</td>\n",
       "      <td>hunter-ostentatious</td>\n",
       "      <td>Catholic</td>\n",
       "      <td>student</td>\n",
       "      <td>red</td>\n",
       "      <td>40</td>\n",
       "      <td>low</td>\n",
       "      <td>1.87</td>\n",
       "    </tr>\n",
       "    <tr>\n",
       "      <th>2</th>\n",
       "      <td>U1003</td>\n",
       "      <td>22.119847</td>\n",
       "      <td>-100.946527</td>\n",
       "      <td>false</td>\n",
       "      <td>social drinker</td>\n",
       "      <td>formal</td>\n",
       "      <td>family</td>\n",
       "      <td>public</td>\n",
       "      <td>single</td>\n",
       "      <td>independent</td>\n",
       "      <td>1989</td>\n",
       "      <td>none</td>\n",
       "      <td>hard-worker</td>\n",
       "      <td>Catholic</td>\n",
       "      <td>student</td>\n",
       "      <td>blue</td>\n",
       "      <td>60</td>\n",
       "      <td>low</td>\n",
       "      <td>1.69</td>\n",
       "    </tr>\n",
       "    <tr>\n",
       "      <th>3</th>\n",
       "      <td>U1004</td>\n",
       "      <td>18.867000</td>\n",
       "      <td>-99.183000</td>\n",
       "      <td>false</td>\n",
       "      <td>abstemious</td>\n",
       "      <td>informal</td>\n",
       "      <td>family</td>\n",
       "      <td>public</td>\n",
       "      <td>single</td>\n",
       "      <td>independent</td>\n",
       "      <td>1940</td>\n",
       "      <td>variety</td>\n",
       "      <td>hard-worker</td>\n",
       "      <td>none</td>\n",
       "      <td>professional</td>\n",
       "      <td>green</td>\n",
       "      <td>44</td>\n",
       "      <td>medium</td>\n",
       "      <td>1.53</td>\n",
       "    </tr>\n",
       "    <tr>\n",
       "      <th>4</th>\n",
       "      <td>U1005</td>\n",
       "      <td>22.183477</td>\n",
       "      <td>-100.959891</td>\n",
       "      <td>false</td>\n",
       "      <td>abstemious</td>\n",
       "      <td>no preference</td>\n",
       "      <td>family</td>\n",
       "      <td>public</td>\n",
       "      <td>single</td>\n",
       "      <td>independent</td>\n",
       "      <td>1992</td>\n",
       "      <td>none</td>\n",
       "      <td>thrifty-protector</td>\n",
       "      <td>Catholic</td>\n",
       "      <td>student</td>\n",
       "      <td>black</td>\n",
       "      <td>65</td>\n",
       "      <td>medium</td>\n",
       "      <td>1.69</td>\n",
       "    </tr>\n",
       "  </tbody>\n",
       "</table>\n",
       "</div>"
      ],
      "text/plain": [
       "  userID   latitude   longitude smoker     drink_level dress_preference  \\\n",
       "0  U1001  22.139997 -100.978803  false      abstemious         informal   \n",
       "1  U1002  22.150087 -100.983325  false      abstemious         informal   \n",
       "2  U1003  22.119847 -100.946527  false  social drinker           formal   \n",
       "3  U1004  18.867000  -99.183000  false      abstemious         informal   \n",
       "4  U1005  22.183477 -100.959891  false      abstemious    no preference   \n",
       "\n",
       "  ambience transport marital_status        hijos  birth_year    interest  \\\n",
       "0   family   on foot         single  independent        1989     variety   \n",
       "1   family    public         single  independent        1990  technology   \n",
       "2   family    public         single  independent        1989        none   \n",
       "3   family    public         single  independent        1940     variety   \n",
       "4   family    public         single  independent        1992        none   \n",
       "\n",
       "           personality  religion      activity  color  weight  budget  height  \n",
       "0    thrifty-protector      none       student  black      69  medium    1.77  \n",
       "1  hunter-ostentatious  Catholic       student    red      40     low    1.87  \n",
       "2          hard-worker  Catholic       student   blue      60     low    1.69  \n",
       "3          hard-worker      none  professional  green      44  medium    1.53  \n",
       "4    thrifty-protector  Catholic       student  black      65  medium    1.69  "
      ]
     },
     "execution_count": 4,
     "metadata": {},
     "output_type": "execute_result"
    }
   ],
   "source": [
    "prof.head()"
   ]
  },
  {
   "cell_type": "code",
   "execution_count": 6,
   "id": "754802fe-3cea-47fe-ba91-30e5309a39d9",
   "metadata": {},
   "outputs": [
    {
     "name": "stdout",
     "output_type": "stream",
     "text": [
      "<class 'pandas.core.frame.DataFrame'>\n",
      "RangeIndex: 138 entries, 0 to 137\n",
      "Data columns (total 19 columns):\n",
      " #   Column            Non-Null Count  Dtype  \n",
      "---  ------            --------------  -----  \n",
      " 0   userID            138 non-null    object \n",
      " 1   latitude          138 non-null    float64\n",
      " 2   longitude         138 non-null    float64\n",
      " 3   smoker            138 non-null    object \n",
      " 4   drink_level       138 non-null    object \n",
      " 5   dress_preference  138 non-null    object \n",
      " 6   ambience          138 non-null    object \n",
      " 7   transport         138 non-null    object \n",
      " 8   marital_status    138 non-null    object \n",
      " 9   hijos             138 non-null    object \n",
      " 10  birth_year        138 non-null    int64  \n",
      " 11  interest          138 non-null    object \n",
      " 12  personality       138 non-null    object \n",
      " 13  religion          138 non-null    object \n",
      " 14  activity          138 non-null    object \n",
      " 15  color             138 non-null    object \n",
      " 16  weight            138 non-null    int64  \n",
      " 17  budget            138 non-null    object \n",
      " 18  height            138 non-null    float64\n",
      "dtypes: float64(3), int64(2), object(14)\n",
      "memory usage: 20.6+ KB\n"
     ]
    }
   ],
   "source": [
    "prof.info()"
   ]
  },
  {
   "cell_type": "code",
   "execution_count": 8,
   "id": "6593a4c1-6f16-46e1-ae18-22eed8860f09",
   "metadata": {},
   "outputs": [
    {
     "name": "stdout",
     "output_type": "stream",
     "text": [
      "['userID'] \n",
      " ['U1001' 'U1002' 'U1003' 'U1004' 'U1005' 'U1006' 'U1007' 'U1008' 'U1009'\n",
      " 'U1010' 'U1011' 'U1012' 'U1013' 'U1014' 'U1015' 'U1016' 'U1017' 'U1018'\n",
      " 'U1019' 'U1020' 'U1021' 'U1022' 'U1023' 'U1024' 'U1025' 'U1026' 'U1027'\n",
      " 'U1028' 'U1029' 'U1030' 'U1031' 'U1032' 'U1033' 'U1034' 'U1035' 'U1036'\n",
      " 'U1037' 'U1038' 'U1039' 'U1040' 'U1041' 'U1042' 'U1043' 'U1044' 'U1045'\n",
      " 'U1046' 'U1047' 'U1048' 'U1049' 'U1050' 'U1051' 'U1052' 'U1053' 'U1054'\n",
      " 'U1055' 'U1056' 'U1057' 'U1058' 'U1059' 'U1060' 'U1061' 'U1062' 'U1063'\n",
      " 'U1064' 'U1065' 'U1066' 'U1067' 'U1068' 'U1069' 'U1070' 'U1071' 'U1072'\n",
      " 'U1073' 'U1074' 'U1075' 'U1076' 'U1077' 'U1078' 'U1079' 'U1080' 'U1081'\n",
      " 'U1082' 'U1083' 'U1084' 'U1085' 'U1086' 'U1087' 'U1088' 'U1089' 'U1090'\n",
      " 'U1091' 'U1092' 'U1093' 'U1094' 'U1095' 'U1096' 'U1097' 'U1098' 'U1099'\n",
      " 'U1100' 'U1101' 'U1102' 'U1103' 'U1104' 'U1105' 'U1106' 'U1107' 'U1108'\n",
      " 'U1109' 'U1110' 'U1111' 'U1112' 'U1113' 'U1114' 'U1115' 'U1116' 'U1117'\n",
      " 'U1118' 'U1119' 'U1120' 'U1121' 'U1122' 'U1123' 'U1124' 'U1125' 'U1126'\n",
      " 'U1127' 'U1128' 'U1129' 'U1130' 'U1131' 'U1132' 'U1133' 'U1134' 'U1135'\n",
      " 'U1136' 'U1137' 'U1138'] \n",
      "\n",
      "['latitude'] \n",
      " [22.139997 22.150087 22.119847 18.867    22.183477 22.15     22.118464\n",
      " 22.122989 22.159427 22.190889 23.724972 18.813348 22.174624 23.751607\n",
      " 22.12676  22.156247 18.952615 22.190949 22.153385 18.878189 23.730569\n",
      " 22.146708 23.752943 22.154021 22.125603 23.733    22.16515  23.752874\n",
      " 22.151796 18.844818 23.735698 22.169184 22.137178 18.839671 22.160572\n",
      " 22.15031  22.125786 23.738067 18.895187 18.935191 18.925773 23.77103\n",
      " 18.95298  22.156724 22.144415 22.142429 22.142208 23.758815 18.877719\n",
      " 22.138055 22.175833 22.150683 22.143289 22.168997 22.196624 22.205802\n",
      " 18.988278 23.715238 22.140388 22.195826 23.745096 22.139511 23.733665\n",
      " 18.890695 23.752269 19.347641 23.753237 22.154339 18.86826  18.917\n",
      " 22.167575 22.156469 22.172109 23.743793 22.207749 23.753061 22.13392\n",
      " 22.172524 22.196787 22.157281 23.753336 22.142748 22.162562 22.158473\n",
      " 22.154677 22.125365 18.871654 23.73944  22.179865 22.1455   22.145471\n",
      " 22.182571 22.184862 18.879729 22.150891 22.137131 23.752265 22.149005\n",
      " 22.120019 18.927072 23.742409 22.143524 22.303308 18.871678 22.143078\n",
      " 22.137343 22.177726 22.138127 18.875641 18.940062 18.96479  22.121857\n",
      " 18.871674 22.169601 23.753112 22.137072 22.19204  22.15421  18.943935\n",
      " 22.187236 23.728798 22.138245 18.886698 22.149654 22.170396 22.149607\n",
      " 22.144803 22.152884] \n",
      "\n",
      "['longitude'] \n",
      " [-100.978803 -100.983325 -100.946527  -99.183    -100.959891 -100.983\n",
      " -100.938256 -100.923811 -100.990448 -100.998669  -99.152856  -99.243697\n",
      " -100.993873  -99.170108 -100.905209 -100.977402  -99.201616 -100.917902\n",
      " -100.975294  -99.222969  -99.171883 -100.964355  -99.166589 -100.976028\n",
      " -100.907844  -99.133    -100.987015  -99.169242 -100.989075  -99.182758\n",
      "  -99.159851 -100.986843 -101.013169  -99.223897 -100.989418 -100.900536\n",
      " -100.943705  -99.139906  -99.18039   -99.23624   -99.219589  -99.167082\n",
      "  -99.260789 -100.984268 -100.933097 -100.949147 -101.022785  -99.171216\n",
      "  -99.22299  -100.936005 -100.986671 -100.975342 -100.987683 -100.974376\n",
      " -100.91217  -100.986081  -99.097023  -99.158864 -100.937321 -101.006317\n",
      "  -99.164357 -100.957002  -99.105617  -99.157104  -99.168605  -99.130229\n",
      "  -99.166868  -99.212033  -99.25     -100.960364 -100.98554  -100.963199\n",
      "  -99.163397 -100.942383  -99.166095 -101.028373 -101.005758 -100.936335\n",
      " -100.98444   -99.167984 -100.940664 -100.99313  -100.949013 -100.947888\n",
      "  -99.183251  -99.160548 -101.018547 -100.939593 -100.939588 -100.963232\n",
      " -100.970535  -99.067106 -100.974891 -100.941151  -99.16859  -100.978153\n",
      " -100.950991  -99.173584  -99.171889 -100.987562 -101.05468   -99.183263\n",
      " -100.908523 -100.913935 -101.014094 -100.920512  -99.220737  -99.228172\n",
      "  -99.260017 -100.904279  -99.183253 -100.991821  -99.168567 -100.918865\n",
      " -100.956935 -100.942233  -99.206532 -100.994213  -99.134047 -100.910948\n",
      "  -99.114979 -100.99861  -100.949936 -100.997235 -100.944623 -100.939663] \n",
      "\n",
      "['smoker'] \n",
      " ['false' 'true' '?'] \n",
      "\n",
      "['drink_level'] \n",
      " ['abstemious' 'social drinker' 'casual drinker'] \n",
      "\n",
      "['dress_preference'] \n",
      " ['informal' 'formal' 'no preference' '?' 'elegant'] \n",
      "\n",
      "['ambience'] \n",
      " ['family' 'friends' 'solitary' '?'] \n",
      "\n",
      "['transport'] \n",
      " ['on foot' 'public' 'car owner' '?'] \n",
      "\n",
      "['marital_status'] \n",
      " ['single' 'married' 'widow' '?'] \n",
      "\n",
      "['hijos'] \n",
      " ['independent' 'kids' '?' 'dependent'] \n",
      "\n",
      "['birth_year'] \n",
      " [1989 1990 1940 1992 1991 1987 1988 1982 1984 1930 1985 1994 1943 1969\n",
      " 1979 1952 1986 1983 1967 1981 1993] \n",
      "\n",
      "['interest'] \n",
      " ['variety' 'technology' 'none' 'retro' 'eco-friendly'] \n",
      "\n",
      "['personality'] \n",
      " ['thrifty-protector' 'hunter-ostentatious' 'hard-worker' 'conformist'] \n",
      "\n",
      "['religion'] \n",
      " ['none' 'Catholic' 'Christian' 'Mormon' 'Jewish'] \n",
      "\n",
      "['activity'] \n",
      " ['student' 'professional' '?' 'unemployed' 'working-class'] \n",
      "\n",
      "['color'] \n",
      " ['black' 'red' 'blue' 'green' 'purple' 'orange' 'yellow' 'white'] \n",
      "\n",
      "['weight'] \n",
      " [ 69  40  60  44  65  75  68  98  80  53  87  70  79  59 108  46 103  49\n",
      "  77  58  64  54  50  76  52  97  83  73  85  82  55  74  66  61  57  88\n",
      "  94  45  92  72  47 118  63  84  62  90 120 110  51] \n",
      "\n",
      "['budget'] \n",
      " ['medium' 'low' '?' 'high'] \n",
      "\n",
      "['height'] \n",
      " [1.77 1.87 1.69 1.53 1.8  1.59 1.72 1.78 1.67 1.84 1.75 1.79 1.83 1.6\n",
      " 1.68 1.62 1.54 1.2  1.55 1.65 1.63 1.58 1.7  1.5  1.73 1.64 1.4  1.71\n",
      " 1.76 1.66 1.45 1.57 1.56 1.82 2.   1.9  1.74 1.81] \n",
      "\n"
     ]
    }
   ],
   "source": [
    "for i in prof.columns:\n",
    "    print(f\"{[i]} \\n {prof[i].unique()} \\n\")"
   ]
  },
  {
   "cell_type": "markdown",
   "id": "0560170e-c26b-496f-bf4c-639638e3772e",
   "metadata": {},
   "source": [
    "Dari data diatas tidak terdapat data null, tetapi ada value berupa \"?\" yang tidak memberikan informasi apa apa"
   ]
  },
  {
   "cell_type": "code",
   "execution_count": 9,
   "id": "43341fdd-2168-4da3-8f21-8d56cdd0d0fe",
   "metadata": {},
   "outputs": [
    {
     "data": {
      "text/html": [
       "<div>\n",
       "<style scoped>\n",
       "    .dataframe tbody tr th:only-of-type {\n",
       "        vertical-align: middle;\n",
       "    }\n",
       "\n",
       "    .dataframe tbody tr th {\n",
       "        vertical-align: top;\n",
       "    }\n",
       "\n",
       "    .dataframe thead th {\n",
       "        text-align: right;\n",
       "    }\n",
       "</style>\n",
       "<table border=\"1\" class=\"dataframe\">\n",
       "  <thead>\n",
       "    <tr style=\"text-align: right;\">\n",
       "      <th></th>\n",
       "      <th>latitude</th>\n",
       "      <th>longitude</th>\n",
       "      <th>birth_year</th>\n",
       "      <th>weight</th>\n",
       "      <th>height</th>\n",
       "    </tr>\n",
       "  </thead>\n",
       "  <tbody>\n",
       "    <tr>\n",
       "      <th>count</th>\n",
       "      <td>138.000000</td>\n",
       "      <td>138.000000</td>\n",
       "      <td>138.000000</td>\n",
       "      <td>138.000000</td>\n",
       "      <td>138.000000</td>\n",
       "    </tr>\n",
       "    <tr>\n",
       "      <th>mean</th>\n",
       "      <td>21.810389</td>\n",
       "      <td>-100.291857</td>\n",
       "      <td>1984.702899</td>\n",
       "      <td>64.869565</td>\n",
       "      <td>1.667536</td>\n",
       "    </tr>\n",
       "    <tr>\n",
       "      <th>std</th>\n",
       "      <td>1.552529</td>\n",
       "      <td>0.869916</td>\n",
       "      <td>14.655364</td>\n",
       "      <td>17.214332</td>\n",
       "      <td>0.130473</td>\n",
       "    </tr>\n",
       "    <tr>\n",
       "      <th>min</th>\n",
       "      <td>18.813348</td>\n",
       "      <td>-101.054680</td>\n",
       "      <td>1930.000000</td>\n",
       "      <td>40.000000</td>\n",
       "      <td>1.200000</td>\n",
       "    </tr>\n",
       "    <tr>\n",
       "      <th>25%</th>\n",
       "      <td>22.126030</td>\n",
       "      <td>-100.983000</td>\n",
       "      <td>1987.000000</td>\n",
       "      <td>53.000000</td>\n",
       "      <td>1.600000</td>\n",
       "    </tr>\n",
       "    <tr>\n",
       "      <th>50%</th>\n",
       "      <td>22.150497</td>\n",
       "      <td>-100.937788</td>\n",
       "      <td>1989.000000</td>\n",
       "      <td>65.000000</td>\n",
       "      <td>1.690000</td>\n",
       "    </tr>\n",
       "    <tr>\n",
       "      <th>75%</th>\n",
       "      <td>22.186642</td>\n",
       "      <td>-99.183251</td>\n",
       "      <td>1991.000000</td>\n",
       "      <td>74.750000</td>\n",
       "      <td>1.750000</td>\n",
       "    </tr>\n",
       "    <tr>\n",
       "      <th>max</th>\n",
       "      <td>23.771030</td>\n",
       "      <td>-99.067106</td>\n",
       "      <td>1994.000000</td>\n",
       "      <td>120.000000</td>\n",
       "      <td>2.000000</td>\n",
       "    </tr>\n",
       "  </tbody>\n",
       "</table>\n",
       "</div>"
      ],
      "text/plain": [
       "         latitude   longitude   birth_year      weight      height\n",
       "count  138.000000  138.000000   138.000000  138.000000  138.000000\n",
       "mean    21.810389 -100.291857  1984.702899   64.869565    1.667536\n",
       "std      1.552529    0.869916    14.655364   17.214332    0.130473\n",
       "min     18.813348 -101.054680  1930.000000   40.000000    1.200000\n",
       "25%     22.126030 -100.983000  1987.000000   53.000000    1.600000\n",
       "50%     22.150497 -100.937788  1989.000000   65.000000    1.690000\n",
       "75%     22.186642  -99.183251  1991.000000   74.750000    1.750000\n",
       "max     23.771030  -99.067106  1994.000000  120.000000    2.000000"
      ]
     },
     "execution_count": 9,
     "metadata": {},
     "output_type": "execute_result"
    }
   ],
   "source": [
    "prof.describe()"
   ]
  },
  {
   "cell_type": "code",
   "execution_count": 10,
   "id": "57f10138-8c17-4ff9-8a61-567242f7c992",
   "metadata": {},
   "outputs": [
    {
     "data": {
      "text/html": [
       "<div>\n",
       "<style scoped>\n",
       "    .dataframe tbody tr th:only-of-type {\n",
       "        vertical-align: middle;\n",
       "    }\n",
       "\n",
       "    .dataframe tbody tr th {\n",
       "        vertical-align: top;\n",
       "    }\n",
       "\n",
       "    .dataframe thead th {\n",
       "        text-align: right;\n",
       "    }\n",
       "</style>\n",
       "<table border=\"1\" class=\"dataframe\">\n",
       "  <thead>\n",
       "    <tr style=\"text-align: right;\">\n",
       "      <th></th>\n",
       "      <th>userID</th>\n",
       "      <th>smoker</th>\n",
       "      <th>drink_level</th>\n",
       "      <th>dress_preference</th>\n",
       "      <th>ambience</th>\n",
       "      <th>transport</th>\n",
       "      <th>marital_status</th>\n",
       "      <th>hijos</th>\n",
       "      <th>interest</th>\n",
       "      <th>personality</th>\n",
       "      <th>religion</th>\n",
       "      <th>activity</th>\n",
       "      <th>color</th>\n",
       "      <th>budget</th>\n",
       "    </tr>\n",
       "  </thead>\n",
       "  <tbody>\n",
       "    <tr>\n",
       "      <th>count</th>\n",
       "      <td>138</td>\n",
       "      <td>138</td>\n",
       "      <td>138</td>\n",
       "      <td>138</td>\n",
       "      <td>138</td>\n",
       "      <td>138</td>\n",
       "      <td>138</td>\n",
       "      <td>138</td>\n",
       "      <td>138</td>\n",
       "      <td>138</td>\n",
       "      <td>138</td>\n",
       "      <td>138</td>\n",
       "      <td>138</td>\n",
       "      <td>138</td>\n",
       "    </tr>\n",
       "    <tr>\n",
       "      <th>unique</th>\n",
       "      <td>138</td>\n",
       "      <td>3</td>\n",
       "      <td>3</td>\n",
       "      <td>5</td>\n",
       "      <td>4</td>\n",
       "      <td>4</td>\n",
       "      <td>4</td>\n",
       "      <td>4</td>\n",
       "      <td>5</td>\n",
       "      <td>4</td>\n",
       "      <td>5</td>\n",
       "      <td>5</td>\n",
       "      <td>8</td>\n",
       "      <td>4</td>\n",
       "    </tr>\n",
       "    <tr>\n",
       "      <th>top</th>\n",
       "      <td>U1001</td>\n",
       "      <td>false</td>\n",
       "      <td>abstemious</td>\n",
       "      <td>no preference</td>\n",
       "      <td>family</td>\n",
       "      <td>public</td>\n",
       "      <td>single</td>\n",
       "      <td>independent</td>\n",
       "      <td>variety</td>\n",
       "      <td>hard-worker</td>\n",
       "      <td>Catholic</td>\n",
       "      <td>student</td>\n",
       "      <td>blue</td>\n",
       "      <td>medium</td>\n",
       "    </tr>\n",
       "    <tr>\n",
       "      <th>freq</th>\n",
       "      <td>1</td>\n",
       "      <td>109</td>\n",
       "      <td>51</td>\n",
       "      <td>53</td>\n",
       "      <td>70</td>\n",
       "      <td>82</td>\n",
       "      <td>122</td>\n",
       "      <td>113</td>\n",
       "      <td>50</td>\n",
       "      <td>61</td>\n",
       "      <td>99</td>\n",
       "      <td>113</td>\n",
       "      <td>45</td>\n",
       "      <td>91</td>\n",
       "    </tr>\n",
       "  </tbody>\n",
       "</table>\n",
       "</div>"
      ],
      "text/plain": [
       "       userID smoker drink_level dress_preference ambience transport  \\\n",
       "count     138    138         138              138      138       138   \n",
       "unique    138      3           3                5        4         4   \n",
       "top     U1001  false  abstemious    no preference   family    public   \n",
       "freq        1    109          51               53       70        82   \n",
       "\n",
       "       marital_status        hijos interest  personality  religion activity  \\\n",
       "count             138          138      138          138       138      138   \n",
       "unique              4            4        5            4         5        5   \n",
       "top            single  independent  variety  hard-worker  Catholic  student   \n",
       "freq              122          113       50           61        99      113   \n",
       "\n",
       "       color  budget  \n",
       "count    138     138  \n",
       "unique     8       4  \n",
       "top     blue  medium  \n",
       "freq      45      91  "
      ]
     },
     "execution_count": 10,
     "metadata": {},
     "output_type": "execute_result"
    }
   ],
   "source": [
    "prof.describe(include=['O'])"
   ]
  },
  {
   "cell_type": "code",
   "execution_count": 13,
   "id": "8fbb97b8-a6aa-4cb9-a9c4-5adaa1c01b65",
   "metadata": {},
   "outputs": [],
   "source": [
    "prof_col = prof.columns\n",
    "def vis(i):\n",
    "    if prof_col[i] == 'birth_year' or prof_col[i] == 'weight' or prof_col[i] == 'height':\n",
    "        plt.hist(prof[prof_col[i]])\n",
    "        plt.title('User ' + prof_col[i] + ' distribution')\n",
    "    else:\n",
    "        temp1 = prof[prof_col[i]].value_counts().reset_index()\n",
    "        temp1.columns = [prof_col[i], 'number']\n",
    "\n",
    "        plt.pie(\n",
    "            temp1['number'],\n",
    "            labels = temp1[prof_col[i]],\n",
    "            autopct = '%1.1f%%',\n",
    "#             startangle=90\n",
    "        )\n",
    "        plt.title(prof_col[i])"
   ]
  },
  {
   "cell_type": "code",
   "execution_count": 14,
   "id": "2caa66c1-cff9-4436-83d4-e9b1bc8cc30e",
   "metadata": {},
   "outputs": [
    {
     "data": {
      "image/png": "[encoded data removed]",
      "text/plain": [
       "<Figure size 1440x2160 with 16 Axes>"
      ]
     },
     "metadata": {
      "needs_background": "light"
     },
     "output_type": "display_data"
    }
   ],
   "source": [
    "fig1 = plt.figure('User Profile', figsize = (20, 30))\n",
    "for i in range(3 , len(prof_col)):\n",
    "    plt.subplot(6,3,i-2)\n",
    "    vis(i)\n",
    "    \n",
    "plt.show()"
   ]
  },
  {
   "cell_type": "markdown",
   "id": "e255b5de-e8cd-4da7-835f-fc815124fc34",
   "metadata": {},
   "source": [
    "## Cuisine"
   ]
  },
  {
   "cell_type": "code",
   "execution_count": 15,
   "id": "33ab3d21-3b58-406b-8cb0-eef2a3a6263e",
   "metadata": {},
   "outputs": [],
   "source": [
    "cuis = pd.read_csv('usercuisine.csv')"
   ]
  },
  {
   "cell_type": "code",
   "execution_count": 17,
   "id": "96544432-e410-4698-8bd5-1cb2b91b915a",
   "metadata": {},
   "outputs": [
    {
     "data": {
      "text/html": [
       "<div>\n",
       "<style scoped>\n",
       "    .dataframe tbody tr th:only-of-type {\n",
       "        vertical-align: middle;\n",
       "    }\n",
       "\n",
       "    .dataframe tbody tr th {\n",
       "        vertical-align: top;\n",
       "    }\n",
       "\n",
       "    .dataframe thead th {\n",
       "        text-align: right;\n",
       "    }\n",
       "</style>\n",
       "<table border=\"1\" class=\"dataframe\">\n",
       "  <thead>\n",
       "    <tr style=\"text-align: right;\">\n",
       "      <th></th>\n",
       "      <th>userID</th>\n",
       "      <th>Rcuisine</th>\n",
       "    </tr>\n",
       "  </thead>\n",
       "  <tbody>\n",
       "    <tr>\n",
       "      <th>0</th>\n",
       "      <td>U1001</td>\n",
       "      <td>American</td>\n",
       "    </tr>\n",
       "    <tr>\n",
       "      <th>1</th>\n",
       "      <td>U1002</td>\n",
       "      <td>Mexican</td>\n",
       "    </tr>\n",
       "    <tr>\n",
       "      <th>2</th>\n",
       "      <td>U1003</td>\n",
       "      <td>Mexican</td>\n",
       "    </tr>\n",
       "    <tr>\n",
       "      <th>3</th>\n",
       "      <td>U1004</td>\n",
       "      <td>Bakery</td>\n",
       "    </tr>\n",
       "    <tr>\n",
       "      <th>4</th>\n",
       "      <td>U1004</td>\n",
       "      <td>Breakfast-Brunch</td>\n",
       "    </tr>\n",
       "  </tbody>\n",
       "</table>\n",
       "</div>"
      ],
      "text/plain": [
       "  userID          Rcuisine\n",
       "0  U1001          American\n",
       "1  U1002           Mexican\n",
       "2  U1003           Mexican\n",
       "3  U1004            Bakery\n",
       "4  U1004  Breakfast-Brunch"
      ]
     },
     "execution_count": 17,
     "metadata": {},
     "output_type": "execute_result"
    }
   ],
   "source": [
    "cuis.head()"
   ]
  },
  {
   "cell_type": "code",
   "execution_count": 18,
   "id": "3dcc1503-c345-4831-9bfe-5c4b09180eab",
   "metadata": {},
   "outputs": [
    {
     "name": "stdout",
     "output_type": "stream",
     "text": [
      "<class 'pandas.core.frame.DataFrame'>\n",
      "RangeIndex: 330 entries, 0 to 329\n",
      "Data columns (total 2 columns):\n",
      " #   Column    Non-Null Count  Dtype \n",
      "---  ------    --------------  ----- \n",
      " 0   userID    330 non-null    object\n",
      " 1   Rcuisine  330 non-null    object\n",
      "dtypes: object(2)\n",
      "memory usage: 5.3+ KB\n"
     ]
    }
   ],
   "source": [
    "cuis.info()"
   ]
  },
  {
   "cell_type": "code",
   "execution_count": 19,
   "id": "ec4bcb8f-b595-4654-802b-a0657c2c2b7b",
   "metadata": {},
   "outputs": [
    {
     "name": "stdout",
     "output_type": "stream",
     "text": [
      "['userID'] \n",
      " ['U1001' 'U1002' 'U1003' 'U1004' 'U1005' 'U1006' 'U1007' 'U1008' 'U1009'\n",
      " 'U1010' 'U1011' 'U1012' 'U1013' 'U1014' 'U1015' 'U1016' 'U1017' 'U1018'\n",
      " 'U1019' 'U1020' 'U1021' 'U1022' 'U1023' 'U1024' 'U1025' 'U1026' 'U1027'\n",
      " 'U1028' 'U1029' 'U1030' 'U1031' 'U1032' 'U1033' 'U1034' 'U1035' 'U1036'\n",
      " 'U1037' 'U1038' 'U1039' 'U1040' 'U1041' 'U1042' 'U1043' 'U1044' 'U1045'\n",
      " 'U1046' 'U1047' 'U1048' 'U1049' 'U1050' 'U1051' 'U1052' 'U1053' 'U1054'\n",
      " 'U1055' 'U1056' 'U1057' 'U1058' 'U1059' 'U1060' 'U1061' 'U1062' 'U1063'\n",
      " 'U1064' 'U1065' 'U1066' 'U1067' 'U1068' 'U1069' 'U1070' 'U1071' 'U1072'\n",
      " 'U1073' 'U1074' 'U1075' 'U1076' 'U1077' 'U1078' 'U1079' 'U1080' 'U1081'\n",
      " 'U1082' 'U1083' 'U1084' 'U1085' 'U1086' 'U1087' 'U1088' 'U1089' 'U1090'\n",
      " 'U1091' 'U1092' 'U1093' 'U1094' 'U1095' 'U1096' 'U1097' 'U1098' 'U1099'\n",
      " 'U1100' 'U1101' 'U1102' 'U1103' 'U1104' 'U1105' 'U1106' 'U1107' 'U1108'\n",
      " 'U1109' 'U1110' 'U1111' 'U1112' 'U1113' 'U1114' 'U1115' 'U1116' 'U1117'\n",
      " 'U1118' 'U1119' 'U1120' 'U1121' 'U1122' 'U1123' 'U1124' 'U1125' 'U1126'\n",
      " 'U1127' 'U1128' 'U1129' 'U1130' 'U1131' 'U1132' 'U1133' 'U1134' 'U1135'\n",
      " 'U1136' 'U1137' 'U1138'] \n",
      "\n",
      "['Rcuisine'] \n",
      " ['American' 'Mexican' 'Bakery' 'Breakfast-Brunch' 'Japanese'\n",
      " 'Contemporary' 'Bagels' 'Cafe-Coffee_Shop' 'Continental-European'\n",
      " 'Cafeteria' 'Family' 'Juice' 'Hawaiian' 'Hot_Dogs' 'Latin_American'\n",
      " 'Korean' 'Italian' 'Diner' 'Fast_Food' 'Deli-Sandwiches' 'Regional'\n",
      " 'Fusion' 'Portuguese' 'Indian-Pakistani' 'Eastern_European' 'Lebanese'\n",
      " 'Moroccan' 'Barbecue' 'Polynesian' 'Polish' 'Chinese' 'Pizzeria'\n",
      " 'Burgers' 'Afghan' 'Middle_Eastern' 'Mongolian' 'Bar' 'Cuban' 'Tex-Mex'\n",
      " 'Spanish' 'Soup' 'Sushi' 'Game' 'Doughnuts' 'Australian' 'Asian'\n",
      " 'Dessert-Ice_Cream' 'Seafood' 'Turkish' 'Organic-Healthy' 'Steaks'\n",
      " 'Mediterranean' 'British' 'Austrian' 'Israeli' 'Russian-Ukrainian'\n",
      " 'Malaysian' 'Vegetarian' 'Peruvian' 'Tapas' 'Eclectic' 'African' 'Basque'\n",
      " 'Canadian' 'Irish' 'Southwestern' 'Tea_House' 'International'\n",
      " 'Pacific_Northwest' 'German' 'Persian' 'Ethiopian' 'Romanian' 'Cambodian'\n",
      " 'Pacific_Rim' 'Tunisian' 'Filipino' 'Dim_Sum' 'Greek' 'Thai' 'Swiss'\n",
      " 'Cajun-Creole' 'Armenian' 'Indigenous' 'Bar_Pub_Brewery' 'Caribbean'\n",
      " 'Indonesian' 'Hungarian' 'Dutch-Belgian' 'Kosher' 'Fine_Dining'\n",
      " 'Jamaican' 'Tibetan' 'Southeast_Asian' 'Burmese' 'California'\n",
      " 'Scandinavian' 'Chilean' 'North_African' 'Vietnamese' 'French'\n",
      " 'Brazilian' 'Southern'] \n",
      "\n"
     ]
    }
   ],
   "source": [
    "for i in cuis.columns:\n",
    "    print(f\"{[i]} \\n {cuis[i].unique()} \\n\")"
   ]
  },
  {
   "cell_type": "code",
   "execution_count": 25,
   "id": "3f713250-4d7c-436c-a4cb-d1ae976e41ed",
   "metadata": {},
   "outputs": [
    {
     "data": {
      "image/png": "[encoded data removed]",
      "text/plain": [
       "<Figure size 432x288 with 1 Axes>"
      ]
     },
     "metadata": {
      "needs_background": "light"
     },
     "output_type": "display_data"
    }
   ],
   "source": [
    "ll = cuis['Rcuisine'].value_counts().reset_index().head(20)\n",
    "ll.columns = ['Rcuisine', 'Count']\n",
    "\n",
    "sns.barplot(data = ll, x = 'Rcuisine', y = 'Count')\n",
    "plt.title('User Cuisine')\n",
    "plt.xlabel('Restaurant Cuisine')\n",
    "plt.ylabel('Number of Users')\n",
    "plt.xticks(rotation = 90);"
   ]
  },
  {
   "cell_type": "code",
   "execution_count": 26,
   "id": "7d19d431-a500-4bc3-9aa1-4cc6ed075195",
   "metadata": {},
   "outputs": [],
   "source": [
    "res_cuisine = pd.read_csv('chefmozcuisine.csv')"
   ]
  },
  {
   "cell_type": "code",
   "execution_count": 27,
   "id": "bd0c1b21-7980-43d7-b092-6eb68fb43235",
   "metadata": {},
   "outputs": [
    {
     "name": "stdout",
     "output_type": "stream",
     "text": [
      "<class 'pandas.core.frame.DataFrame'>\n",
      "RangeIndex: 916 entries, 0 to 915\n",
      "Data columns (total 2 columns):\n",
      " #   Column    Non-Null Count  Dtype \n",
      "---  ------    --------------  ----- \n",
      " 0   placeID   916 non-null    int64 \n",
      " 1   Rcuisine  916 non-null    object\n",
      "dtypes: int64(1), object(1)\n",
      "memory usage: 14.4+ KB\n"
     ]
    }
   ],
   "source": [
    "res_cuisine.info()"
   ]
  },
  {
   "cell_type": "code",
   "execution_count": 28,
   "id": "f31fbb79-5ef7-40f1-83c7-d102063f9543",
   "metadata": {},
   "outputs": [
    {
     "name": "stdout",
     "output_type": "stream",
     "text": [
      "['placeID'] \n",
      " [135110 135109 135107 135106 135105 135104 135103 135102 135101 135100\n",
      " 135099 135098 135097 135094 135093 135092 135091 135090 135089 135088\n",
      " 135086 135085 135079 135075 135074 135073 135072 135071 135069 135061\n",
      " 135060 135059 135058 135057 135056 135055 135054 135053 135052 135049\n",
      " 135048 135046 135044 135043 135042 135041 135039 135037 135036 135035\n",
      " 135034 135032 135031 135030 135029 135028 135027 135026 135025 135022\n",
      " 135021 135020 135019 135018 135008 135007 135005 135004 135003 135002\n",
      " 134999 134997 134990 134989 134988 134986 134985 134984 134983 134982\n",
      " 134981 134980 134976 134973 134972 134971 133049 133048 133047 133043\n",
      " 133039 133038 133037 133036 133035 133034 133033 133032 133031 133030\n",
      " 133029 133028 133027 133026 133020 133014 133010 133009 133008 133007\n",
      " 133000 132996 132995 132994 132993 132992 132986 132985 132980 132973\n",
      " 132972 132971 132970 132969 132968 132967 132966 132965 132964 132963\n",
      " 132962 132961 132960 132959 132958 132957 132956 132955 132954 132953\n",
      " 132951 132950 132948 132947 132946 132945 132943 132942 132941 132940\n",
      " 132939 132938 132937 132936 132935 132934 132933 132932 132930 132929\n",
      " 132928 132927 132926 132925 132924 132923 132922 132921 132920 132919\n",
      " 132918 132917 132916 132915 132914 132913 132912 132911 132910 132909\n",
      " 132908 132907 132906 132904 132903 132902 132901 132900 132899 132897\n",
      " 132896 132895 132894 132893 132892 132891 132890 132889 132888 132887\n",
      " 132886 132885 132875 132873 132872 132871 132870 132869 132868 132867\n",
      " 132866 132865 132864 132863 132862 132861 132860 132859 132858 132857\n",
      " 132856 132855 132854 132853 132852 132851 132846 132845 132843 132842\n",
      " 132841 132840 132839 132838 132837 132836 132835 132834 132833 132829\n",
      " 132828 132827 132825 132811 132810 132807 132806 132805 132804 132803\n",
      " 132802 132801 132799 132798 132797 132796 132795 132794 132793 132792\n",
      " 132791 132790 132789 132788 132787 132786 132785 132784 132783 132782\n",
      " 132781 132779 132778 132777 132776 132775 132774 132773 132772 132771\n",
      " 132770 132769 132768 132767 132766 132765 132764 132763 132761 132760\n",
      " 132758 132757 132756 132755 132754 132753 132752 132751 132750 132749\n",
      " 132748 132747 132746 132745 132744 132743 132742 132741 132740 132739\n",
      " 132738 132737 132736 132735 132734 132733 132732 132725 132724 132723\n",
      " 132719 132718 132717 132715 132714 132713 132712 132711 132710 132709\n",
      " 132708 132707 132706 132705 132704 132703 132702 132701 132700 132699\n",
      " 132698 132697 132696 132695 132694 132693 132692 132691 132690 132689\n",
      " 132688 132687 132686 132685 132684 132683 132682 132681 132680 132679\n",
      " 132678 132677 132676 132675 132674 132673 132672 132671 132670 132669\n",
      " 132668 132667 132666 132665 132664 132663 132662 132658 132657 132655\n",
      " 132653 132652 132650 132649 132648 132646 132645 132643 132642 132640\n",
      " 132638 132637 132636 132635 132634 132632 132631 132630 132629 132628\n",
      " 132626 132625 132624 132623 132622 132621 132620 132619 132618 132617\n",
      " 132615 132614 132613 132612 132611 132610 132609 132608 132607 132606\n",
      " 132605 132604 132603 132602 132601 132600 132599 132598 132596 132595\n",
      " 132594 132593 132592 132591 132590 132589 132588 132587 132584 132583\n",
      " 132582 132581 132580 132579 132578 132577 132576 132575 132574 132573\n",
      " 132572 132560 132557 132555 132551 132550 132549 132548 132547 132546\n",
      " 132545 132544 132543 132542 132541 132540 132539 132538 132537 132536\n",
      " 132535 132533 132532 132531 132530 132529 132528 132527 132526 132525\n",
      " 132524 132523 132522 132521 132519 132518 132517 132514 132513 132511\n",
      " 132509 132493 132491 132488 132487 132485 132484 132483 132482 132481\n",
      " 132479 132478 132477 132474 132470 132469 132468 132464 132459 132458\n",
      " 132457 132456 132455 132454 132453 132452 132451 132450 132449 132448\n",
      " 132447 132446 132445 132444 132443 132442 132441 132440 132439 132438\n",
      " 132437 132436 132435 132434 132433 132432 132430 132429 132425 132421\n",
      " 132419 132417 132414 132413 132410 132409 132408 132407 132406 132402\n",
      " 132399 132398 132396 132393 132392 132389 132387 132386 132384 132381\n",
      " 132380 132377 132372 132367 132366 132365 132364 132363 132362 132361\n",
      " 132360 132359 132358 132357 132356 132355 132354 132353 132352 132351\n",
      " 132350 132349 132348 132347 132346 132345 132344 132343 132342 132341\n",
      " 132339 132337 132336 132335 132333 132332 132331 132330 132329 132328\n",
      " 132326 132324 132321 132319 132318 132317 132316 132315 132312 132310\n",
      " 132306 132302 132300 132299 132298 132297 132296 132295 132294 132292\n",
      " 132289 132284 132283 132281 132280 132275 132274 132273 132272 132271\n",
      " 132270 132269 132268 132266 132265 132262 132258 132257 132255 132253\n",
      " 132250 132249 132247 132246 132245 132244 132243 132242 132240 132239\n",
      " 132238 132237 132235 132234 132233 132232 132231 132230 132229 132228\n",
      " 132226 132225 132223 132221 132220 132218 132217 132216 132215 132214\n",
      " 132213 132212 132211 132210 132209 132208 132207 132206 132204 132203\n",
      " 132201 132192 132191 132187 132186 132184 132182 132180 132177 132175\n",
      " 132174 132171 132167 132166 132165 132164 132163 132162 132161 132160\n",
      " 132159 132157 132156 132155 132147 132146 132145 132138 132137 132136\n",
      " 132133 132132 132131 132130 132128 132127 132126 132125 132121 132120\n",
      " 132119 132118 132116 132115 132114 132109 132108 132107 132106 132105\n",
      " 132103 132102 132101 132100 132098 132097 132096 132094 132092 132087\n",
      " 132083 132031 132030 132028 132026 132025 132024 132023 132022 132021\n",
      " 132020 132019 132018 132017 132016 132015 132014 132013 132012 132010\n",
      " 132009 132008 132007 132006 132005 132004 132003 132002 132001] \n",
      "\n",
      "['Rcuisine'] \n",
      " ['Spanish' 'Italian' 'Latin_American' 'Mexican' 'Fast_Food' 'Burgers'\n",
      " 'Dessert-Ice_Cream' 'Hot_Dogs' 'Steaks' 'Asian' 'International'\n",
      " 'Mongolian' 'Vegetarian' 'Brazilian' 'Cafe-Coffee_Shop' 'Cafeteria'\n",
      " 'Contemporary' 'Deli-Sandwiches' 'Diner' 'Japanese' 'Sushi' 'Seafood'\n",
      " 'Chinese' 'Bar' 'Bar_Pub_Brewery' 'Pizzeria' 'Mediterranean' 'American'\n",
      " 'Family' 'Caribbean' 'African' 'Breakfast-Brunch' 'Regional' 'Afghan'\n",
      " 'Bakery' 'Game' 'Armenian' 'Vietnamese' 'Korean' 'Thai' 'Barbecue'\n",
      " 'Polish' 'Dutch-Belgian' 'French' 'German' 'Southwestern' 'Persian'\n",
      " 'Ethiopian' 'Juice' 'Soup' 'Continental-European' 'Greek' 'Southern'\n",
      " 'Eastern_European' 'California' 'Bagels' 'Turkish' 'Organic-Healthy'\n",
      " 'Fine_Dining'] \n",
      "\n"
     ]
    }
   ],
   "source": [
    "for i in res_cuisine.columns:\n",
    "    print(f\"{[i]} \\n {res_cuisine[i].unique()} \\n\")"
   ]
  },
  {
   "cell_type": "code",
   "execution_count": 29,
   "id": "76600517-fc5b-42a1-a85b-01d11e09e5c1",
   "metadata": {},
   "outputs": [
    {
     "data": {
      "image/png": "[encoded data removed]",
      "text/plain": [
       "<Figure size 432x288 with 1 Axes>"
      ]
     },
     "metadata": {
      "needs_background": "light"
     },
     "output_type": "display_data"
    }
   ],
   "source": [
    "tt = res_cuisine['Rcuisine'].value_counts().reset_index().head(20)\n",
    "tt.columns = ['Rcuisine', 'Count']\n",
    "\n",
    "sns.barplot(data = tt, x = 'Rcuisine', y = 'Count')\n",
    "plt.title('Restaurants Cuisine in Mexico')\n",
    "plt.xlabel('Type of Restaurant')\n",
    "plt.xticks(rotation = 90);"
   ]
  },
  {
   "cell_type": "markdown",
   "id": "4163bbeb-c6b3-4da9-afb2-fae951162efb",
   "metadata": {},
   "source": [
    "## Restaurant Profile"
   ]
  },
  {
   "cell_type": "code",
   "execution_count": 30,
   "id": "36a1c561-67dd-4bf7-9163-ad80b284b47a",
   "metadata": {},
   "outputs": [],
   "source": [
    "resto_profile = pd.read_csv('geoplaces2.csv')"
   ]
  },
  {
   "cell_type": "code",
   "execution_count": 31,
   "id": "b41807bd-2b40-473c-ab24-c2ec51e55fe6",
   "metadata": {},
   "outputs": [
    {
     "name": "stdout",
     "output_type": "stream",
     "text": [
      "<class 'pandas.core.frame.DataFrame'>\n",
      "RangeIndex: 130 entries, 0 to 129\n",
      "Data columns (total 21 columns):\n",
      " #   Column          Non-Null Count  Dtype  \n",
      "---  ------          --------------  -----  \n",
      " 0   placeID         130 non-null    int64  \n",
      " 1   latitude        130 non-null    float64\n",
      " 2   longitude       130 non-null    float64\n",
      " 3   the_geom_meter  130 non-null    object \n",
      " 4   name            130 non-null    object \n",
      " 5   address         130 non-null    object \n",
      " 6   city            130 non-null    object \n",
      " 7   state           130 non-null    object \n",
      " 8   country         130 non-null    object \n",
      " 9   fax             130 non-null    object \n",
      " 10  zip             130 non-null    object \n",
      " 11  alcohol         130 non-null    object \n",
      " 12  smoking_area    130 non-null    object \n",
      " 13  dress_code      130 non-null    object \n",
      " 14  accessibility   130 non-null    object \n",
      " 15  price           130 non-null    object \n",
      " 16  url             130 non-null    object \n",
      " 17  Rambience       130 non-null    object \n",
      " 18  franchise       130 non-null    object \n",
      " 19  area            130 non-null    object \n",
      " 20  other_services  130 non-null    object \n",
      "dtypes: float64(2), int64(1), object(18)\n",
      "memory usage: 21.5+ KB\n"
     ]
    }
   ],
   "source": [
    "resto_profile.info()"
   ]
  },
  {
   "cell_type": "code",
   "execution_count": 32,
   "id": "bbc0e913-c33d-4d95-8214-da9593e1e2df",
   "metadata": {},
   "outputs": [
    {
     "name": "stdout",
     "output_type": "stream",
     "text": [
      "['placeID'] \n",
      " [134999 132825 135106 132667 132613 135040 132732 132875 132609 135082\n",
      " 135070 135069 135065 135076 135086 132870 132854 132937 132856 132668\n",
      " 135033 132862 134983 132851 135013 135042 132768 132561 135045 132847\n",
      " 135054 134975 135053 135050 135025 135030 135057 135079 134992 132954\n",
      " 135041 132608 135046 132564 132869 132925 132955 135059 135001 135063\n",
      " 135080 135000 135066 135034 135060 135055 135108 135074 135018 135064\n",
      " 135038 135081 132723 135051 135021 135052 132845 135011 132858 135026\n",
      " 132884 135016 135104 132630 135047 132951 132665 135044 135035 135071\n",
      " 132834 132846 135048 132717 132861 132885 132740 132830 132773 132706\n",
      " 132872 134987 132572 132958 132733 132922 132715 135027 132767 135039\n",
      " 134996 132755 135043 132654 135049 135073 132560 134976 135075 132660\n",
      " 132921 132594 134986 135062 132766 135088 135058 132754 132584 135032\n",
      " 135028 135085 132663 132626 132583 132866 135072 135109 135019 132877] \n",
      "\n",
      "['latitude'] \n",
      " [18.915421  22.1473922 22.1497088 23.7526973 23.7529035 22.135617\n",
      " 23.7543569 22.1499013 23.7602683 22.151448  22.152918  22.140129\n",
      " 22.14958   22.181017  22.141421  22.1430781 22.1378633 22.1500193\n",
      " 22.1513782 23.738212  22.14161   22.1506429 18.948657  22.136872\n",
      " 18.917441  22.159357  18.9257734 23.726819  22.151189  22.1443365\n",
      " 22.140626  18.940828  22.178931  22.174887  22.14955   22.14788\n",
      " 22.145992  22.156376  18.936683  22.1603808 22.15106   23.7588052\n",
      " 22.141282  23.7309245 22.1412384 22.1534997 22.147622  22.145108\n",
      " 18.941859  22.156724  22.145008  18.870565  22.16835   22.140517\n",
      " 22.156883  22.148854  22.1362534 22.149689  18.859803  22.154687\n",
      " 22.155651  22.164842  22.1489337 18.933537  22.150981  22.1262926\n",
      " 18.91061   22.1312917 22.148665  22.1395776 18.869347  23.7529821\n",
      " 23.7529305 22.150921  22.1544736 23.7367977 22.141848  22.145813\n",
      " 22.126375  22.156469  22.1422732 22.142017  23.7318602 22.1480965\n",
      " 22.1795169 23.7521965 22.1508494 18.8699929 23.7292162 22.1735955\n",
      " 18.932725  22.1416471 22.1449787 23.7527071 22.1511348 23.7324226\n",
      " 22.147145  18.8820871 22.145893  18.923429  22.153324  22.185756\n",
      " 23.7355234 22.135011  22.147175  23.7523041 18.916654  22.139573\n",
      " 23.7529428 22.150305  23.7521677 18.928798  22.153703  18.9101777\n",
      " 18.8760113 22.165587  22.1477379 23.7523648 22.152481  22.146658\n",
      " 22.150802  23.7525107 23.7375834 18.9222904 22.1412198 22.149192\n",
      " 18.9217848 18.875011  22.1353639] \n",
      "\n",
      "['longitude'] \n",
      " [ -99.184871  -100.983092  -100.9760928  -99.1633594  -99.165076\n",
      " -100.969709   -99.171288  -100.9937793  -99.1658646 -100.915099\n",
      " -100.915164  -100.944872  -100.999557  -100.973614  -101.013955\n",
      " -100.9354788 -100.9383273 -100.9799203 -100.9746337  -99.1519547\n",
      " -100.973142  -100.9870148  -99.235361  -100.9345736  -99.165945\n",
      " -100.973411   -99.2326355  -99.1265059 -100.98179   -100.9373825\n",
      " -100.915657   -99.215426  -101.012861  -100.970825  -100.97797\n",
      " -100.989472  -100.955118  -100.998355   -99.247366  -100.9880447\n",
      " -100.977659   -99.1651297 -101.002958   -99.1451848 -100.9239252\n",
      " -100.976243  -101.0102749 -100.989547   -99.241927  -100.975556\n",
      " -100.997969   -99.226938  -100.972466  -101.021422  -100.978485\n",
      " -101.008472  -100.9335852 -100.999525   -99.222164  -100.996617\n",
      " -100.977767  -100.960493  -101.019845  -100.977058   -99.222497\n",
      " -100.977412  -100.9007764  -99.169539  -100.9371941 -101.001273\n",
      " -101.0278863  -99.209944   -99.1684341  -99.1644725 -100.993828\n",
      " -100.9858091  -99.1342413 -100.997475  -101.018032  -100.910926\n",
      " -100.98554   -100.9426537 -100.999246   -99.1504365 -101.0173023\n",
      " -100.9584358  -99.1666317 -100.9397522  -99.2103195  -99.1323571\n",
      " -100.9946027  -99.225211  -100.9927118 -101.0056829  -99.1625655\n",
      " -100.9823115  -99.1586602 -100.974494   -99.1630268 -100.97487\n",
      "  -99.216413  -101.0195459 -100.944518   -99.1295877 -101.0286\n",
      " -100.974269   -99.1669133  -99.22711   -100.991564   -99.1646791\n",
      " -100.9891337  -99.165709   -99.239513  -100.979033   -99.2315438\n",
      "  -99.2198896 -100.9906163  -99.1652879 -100.973486  -100.987219\n",
      " -100.98268    -99.1669536  -99.1351318  -99.234332  -100.9313107\n",
      " -101.002936   -99.2353499  -99.159422  -100.9349477] \n",
      "\n",
      "['the_geom_meter'] \n",
      " ['0101000020957F000088568DE356715AC138C0A525FC464A41'\n",
      " '0101000020957F00001AD016568C4858C1243261274BA54B41'\n",
      " '0101000020957F0000649D6F21634858C119AE9BF528A34B41'\n",
      " '0101000020957F00005D67BCDDED8157C1222A2DC8D84D4941'\n",
      " '0101000020957F00008EBA2D06DC8157C194E03B7B504E4941'\n",
      " '0101000020957F00001B552189B84A58C15A2AAEFD2CA24B41'\n",
      " '0101000020957F00008A20E615808157C16272FECBF84F4941'\n",
      " '0101000020957F00008A2A0747DE4758C11EB31D2A31A84B41'\n",
      " '0101000020957F0000A478418BBA8057C133851EB22C4E4941'\n",
      " '0101000020957F0000A29FAF95CD4958C1FEEEBB73A9914B41'\n",
      " '0101000020957F0000ED435B84934958C1B3CF85FA97914B41'\n",
      " '0101000020957F000038E5D546B74A58C18FD29AD0D29A4B41'\n",
      " '0101000020957F000094A6A8E3C14758C17435E6D1DBA94B41'\n",
      " '0101000020957F00005657121FAA4358C1A8030D5598A04B41'\n",
      " '0101000020957F0000FA1A0E5A9B4858C17C884C4173AE4B41'\n",
      " '0101000020957F0000550FC1FC854A58C16D7D4E35F8974B41'\n",
      " '0101000020957F0000FEC3FB453E4B58C19B4A463617994B41'\n",
      " '0101000020957F0000F9F19DDC3B4858C191B265A83BA44B41'\n",
      " '0101000020957F0000C1B7D30B2C4858C1CE557111A5A24B41'\n",
      " '0101000020957F000003B195E25F8457C1C535BD04614B4941'\n",
      " '0101000020957F00000F624C60B54958C11757339BCCA24B41'\n",
      " '0101000020957F0000AF95272CF14758C165B2F91238A64B41'\n",
      " '0101000020957F0000DEF36F4FC76A5AC162B083D9A0544A41'\n",
      " '0101000020957F0000C74DE39C7F4B58C1061F291714984B41'\n",
      " '0101000020957F0000D241E94E7B715AC119862B3B1E414A41'\n",
      " '0101000020957F0000C66BB014FC4658C17CFE8D93D2A14B41'\n",
      " '0101000020957F000000DD3546816E5AC119D4BD17FD544A41'\n",
      " '0101000020957F000004457BB7AA8657C15F10835CD9444941'\n",
      " '0101000020957F00000B6735CA004858C108FD525CB2A44B41'\n",
      " '0101000020957F00004717A23D474A58C17D1F102970984B41'\n",
      " '0101000020957F000011E92CCE714B58C19BF8C0CA75924B41'\n",
      " '0101000020957F000076F426DC856C5AC1CB520721F84E4A41'\n",
      " '0101000020957F0000B3C05AB5E54258C180F99573E7AB4B41'\n",
      " '0101000020957F0000FD78FFF7AD4458C1896A33F029A04B41'\n",
      " '0101000020957F0000C7080D105C4858C108B4006AB4A34B41'\n",
      " '0101000020957F0000C57C76034C4858C10E437A7E15A74B41'\n",
      " '0101000020957F000095669021894958C182C9C10E669D4B41'\n",
      " '0101000020957F00009FF49E27C04658C1BA8689941CA94B41'\n",
      " '0101000020957F0000FC799354656C5AC1233FCC70E7584A41'\n",
      " '0101000020957F0000F78F04596C4658C1C151AA1AEFA54B41'\n",
      " '0101000020957F0000D2002719234858C1CC7A9FC186A34B41'\n",
      " '0101000020957F0000A15C8F5FF78057C1C93CEA9E0A4E4941'\n",
      " '0101000020957F000011DFB4E3EE4858C13F78758452AB4B41'\n",
      " '0101000020957F0000EA4F00C5A08557C140085474D9494941'\n",
      " '0101000020957F0000BC62C18D1F4B58C169E0A959C8944B41'\n",
      " '0101000020957F00001EF62687CD4758C1BE336F4EFAA24B41'\n",
      " '0101000020957F000068BE7C87C24758C1920A360A08AD4B41'\n",
      " '0101000020957F000005810F19B84858C136805B2745A74B41'\n",
      " '0101000020957F0000429477F3B36B5AC1D65C45CAFA564A41'\n",
      " '0101000020957F000054B1A10F544758C15BD6A12797A24B41'\n",
      " '0101000020957F000033331E4B804858C166643087ADA94B41'\n",
      " '0101000020957F00001CCDD2577A775AC1D25FB8BA1F564A41'\n",
      " '0101000020957F000013696871A24558C11EE432FB04A14B41'\n",
      " '0101000020957F000026D92BB4894858C161A7552DA2B04B41'\n",
      " '0101000020957F00004C95C918394758C17A5C44896AA34B41'\n",
      " '0101000020957F00006610DA0F9F4758C12ED00BA771AC4B41'\n",
      " '0101000020957F00008FAE40D59E4B58C112C66046D5974B41'\n",
      " '0101000020957F0000CDA37BD8BD4758C1F4FBE3D2D7A94B41'\n",
      " '0101000020957F0000C015D38251795AC1D8D396893A554A41'\n",
      " '0101000020957F0000245028A70E4758C18E383571B7A84B41'\n",
      " '0101000020957F0000506149736E4758C1A8BC93DA48A34B41'\n",
      " '0101000020957F00006ADAD289804658C168CABB6BD09D4B41'\n",
      " '0101000020957F0000B366C9254B4758C191987F9CAEAF4B41'\n",
      " '0101000020957F0000D6537C4C224858C1DED7F6EB58A34B41'\n",
      " '0101000020957F00005645259D836D5AC11EF994E27F514A41'\n",
      " '0101000020957F0000B72147F1274858C189A406ED75A34B41'\n",
      " '0101000020957F0000B230F8670C4E58C1D590A2700F8F4B41'\n",
      " '0101000020957F0000A68C31737C725AC1A6E234AE90424A41'\n",
      " '0101000020957F0000608CF6D8474C58C1DBF7C50028994B41'\n",
      " '0101000020957F0000C75F8790D94758C1FF8BCA0567AA4B41'\n",
      " '0101000020957F00001FAA108A804858C1712EE37088B24B41'\n",
      " '0101000020957F0000FC8866CF17785AC14CD7055B02514A41'\n",
      " '0101000020957F00007CDF5EAFC58157C1645743B23E4F4941'\n",
      " '0101000020957F000047206572DE8157C1D3315028254E4941'\n",
      " '0101000020957F00009C7617FBB54758C1260D663225A84B41'\n",
      " '0101000020957F0000BAC859A0634758C1C3E84FCAA5A54B41'\n",
      " '0101000020957F00007AED0830FC8457C122F85F7B84464941'\n",
      " '0101000020957F0000C8B62F9EFF4858C14FA6C296B9A94B41'\n",
      " '0101000020957F00004DDB874CD24758C1F29E91E259AF4B41'\n",
      " '0101000020957F0000E3A742BFC14D58C1F4E529A7F3914B41'\n",
      " '0101000020957F00007768135A174758C155D318CB73A54B41'\n",
      " '0101000020957F000065D51EE7724A58C1B688A454109A4B41'\n",
      " '0101000020957F00008032636EEC4858C16CDF265038AA4B41'\n",
      " '0101000020957F0000B21C3F6C5E8557C188ACCF0A444B4941'\n",
      " '0101000020957F000074BBAF047E4758C1424B73C701AF4B41'\n",
      " '0101000020957F0000B1DA6F2D504458C112A26CA45B9C4B41'\n",
      " '0101000020957F000027A30471EE8157C1AC17D61EC84E4941'\n",
      " '0101000020957F0000F2E21C48374958C1C6826887BA984B41'\n",
      " '0101000020957F0000B1F935F9FA775AC1D06DFD1017514A41'\n",
      " '0101000020957F00000F14BF6B2C8657C1963CCB8E5C464941'\n",
      " '0101000020957F0000942C3434384458C1C2D3499804A74B41'\n",
      " '0101000020957F0000FE987FAF936D5AC1E1D486215E524A41'\n",
      " '0101000020957F00005D19BF45294958C18FF7F8E260A84B41'\n",
      " '0101000020957F000049095EB34A4858C15CB4BD1EE1AB4B41'\n",
      " '0101000020957F0000F2F4110CF28157C1DCFD7C1BA04D4941'\n",
      " '0101000020957F000060A98A38FF4758C146718E41D9A44B41'\n",
      " '0101000020957F00004609B96F198557C11973490A874D4941'\n",
      " '0101000020957F000087BEDDE8D24858C1B20CDB33DBA24B41'\n",
      " '0101000020957F00001672C2C435775AC1F69BF2EF0D424A41'\n",
      " '0101000020957F000040D5CE4E014958C177DC62AE09A34B41'\n",
      " '0101000020957F0000340233E7476F5AC132844E2A2C504A41'\n",
      " '0101000020957F000026CADE45A14658C1F011EBCA55AF4B41'\n",
      " '0101000020957F00006B9D7207BE4358C12419118D05984B41'\n",
      " '0101000020957F000040E8F628488557C18224E8B948454941'\n",
      " '0101000020957F00005DAD35642E4958C11BBCDE4A02B34B41'\n",
      " '0101000020957F0000D010A853D34858C116A1EA51CAA24B41'\n",
      " '0101000020957F0000FC60BDA8E88157C1B2C357D6DA4E4941'\n",
      " '0101000020957F00002838E29F19705AC1BC368BDAC7534A41'\n",
      " '0101000020957F0000332AE8AF824958C15A4195A82CA84B41'\n",
      " '0101000020957F00003D7905C9DC8157C13FCD1AB7334E4941'\n",
      " '0101000020957F00006376BB64EF4758C1013687E5D7A64B41'\n",
      " '0101000020957F00003AE4C6DBF48157C1CE38ECC1864E4941'\n",
      " '0101000020957F00002A0D05E2D96D5AC1AB058CB1EC564A41'\n",
      " '0101000020957F0000D177B9CFB14758C162A211E1C2A34B41'\n",
      " '0101000020957F000043A319BA06715AC19443369877554A41'\n",
      " '0101000020957F0000E14AD4DBC7765AC1F7B33C85B1534A41'\n",
      " '0101000020957F0000EB71019D424558C15CC5404365A94B41'\n",
      " '0101000020957F00002493B678494858C1AD55D2316BA74B41'\n",
      " '0101000020957F000048C65BA7EF8157C177F2344D664E4941'\n",
      " '0101000020957F000017D69FF5084858C1A8F2188740A24B41'\n",
      " '0101000020957F0000B4F00BDD8B4858C10AC3619C83A64B41'\n",
      " '0101000020957F00009F823DA6094858C18A2D4D37F9A44B41'\n",
      " '0101000020957F0000FDF8D26EE08157C1FEDB6A1FDB4E4941'\n",
      " '0101000020957F0000AA7883ADD88457C1FA651328BA464941'\n",
      " '0101000020957F0000FBE7171F056F5AC1E8A6C0A5AF554A41'\n",
      " '0101000020957F000013871838EC4A58C1B5DF74F8E3964B41'\n",
      " '0101000020957F0000E7B79B1DB94758C1D29BC363D8AA4B41'\n",
      " '0101000020957F0000A6BF695F136F5AC1DADF87B205564A41'\n",
      " '0101000020957F0000B49B2E5C6E785AC12F9D584352414A41'\n",
      " '0101000020957F000090735015B84B58C1AF0DC04146984B41'] \n",
      "\n",
      "['name'] \n",
      " ['Kiku Cuernavaca' 'puesto de tacos' 'El Rinc�n de San Francisco'\n",
      " 'little pizza Emilio Portes Gil' 'carnitas_mata'\n",
      " 'Restaurant los Compadres' 'Taqueria EL amigo ' 'shi ro ie'\n",
      " 'Pollo_Frito_Buenos_Aires' 'la Estrella de Dimas' 'Restaurante 75'\n",
      " 'Abondance Restaurante Bar' 'El angel Restaurante'\n",
      " 'Restaurante Pueblo Bonito' 'Mcdonalds Parque Tangamanga'\n",
      " 'Tortas y hamburguesas el gordo' 'Sirlone' 'rockabilly ' 'Unicols Pizza'\n",
      " 'TACOS EL GUERO' 'Restaurant El Muladar de Calzada'\n",
      " 'La Posada del Virrey'\n",
      " 'Restaurant and Bar and Clothesline Carlos N Charlies' 'KFC' 'Giovannis'\n",
      " 'Restaurant Oriental Express' 'Mariscos Tia Licha' 'cafe ambar'\n",
      " 'Restaurante la Gran Via' 'don burguers'\n",
      " 'Restaurante y Pescaderia Tampico' 'Rincon del Bife'\n",
      " 'La Fontana Pizza Restaurante and Cafe' 'Restaurante la Estrella de Dima'\n",
      " 'El Rincon de San Francisco' 'Preambulo Wifi Zone Cafe'\n",
      " 'El Herradero Restaurante and Bar' 'Koye Sushi' 'Restaurant Teely'\n",
      " 'la parroquia' 'Luna Cafe' 'Hamburguesas La perica'\n",
      " 'Restaurante El Reyecito' 'churchs' 'Dominos Pizza' 'el pueblito'\n",
      " 'emilianos' 'Restaurant Bar Hacienda los Martinez' 'Vips'\n",
      " 'Restaurante Alhondiga' 'los Toneles' 'Restaurant los Pinos'\n",
      " 'Restaurante Guerra' 'Michiko Restaurant Japones'\n",
      " 'Restaurante Marisco Sam' 'la Cochinita Pibil Restaurante Yucateco'\n",
      " 'Potzocalli' 'Restaurante la Parroquia Potosina' 'El Oceano Dorado'\n",
      " 'Restaurante El Chivero S.A. de C.V.' 'Restaurant la Chalita' 'El Club'\n",
      " 'Gordas de morales' 'Restaurante Versalles' 'Subway'\n",
      " 'La Cantina Restaurante' 'Cenaduria El Rincón de Tlaquepaque'\n",
      " 'Los Vikingos' 'Hamburguesas Valle Dorado' 'la Cantina' 'dairy queen'\n",
      " 'Arrachela Grill' 'vips' 'palomo tec' 'Restaurante Casa de las Flores'\n",
      " 'VIPS' 'TACOS CORRECAMINOS' 'Restaurant Wu Zhuo Yi'\n",
      " 'El Mundo de la Pasta' 'Restaurante la Cantina' 'Gorditas Doa Gloria'\n",
      " 'el lechon potosino ' 'Restaurante Bar Fu-hao' 'tortas hawai' 'Carls Jr'\n",
      " 'Hamburguesas saul' 'Carreton de Flautas y Migadas' 'Rincon Huasteco'\n",
      " 'El cotorreo' 'Gorditas Dona Tota' 'Pizzeria Julios' 'Chilis Cuernavaca'\n",
      " 'Cafe Chaires' 'tacos los volcanes' 'Little Cesarz'\n",
      " 'cafe punta del cielo' 'tacos de la estacion' 'Restaurant Orizatlan'\n",
      " 'Restaurant Familiar El Chino' 'Restaurant de Mariscos de Picon'\n",
      " 'Sanborns Casa Piedra' 'La Estrella de Dimas' 'pizza clasica'\n",
      " 'Carnitas Mata  Calle 16 de Septiembre'\n",
      " 'Restaurante de Mariscos la Langosta' 'Restaurante Bar El Gallinero'\n",
      " 'puesto de gorditas' 'Log Yin' 'Mariscos El Pescador'\n",
      " 'carnitas mata calle Emilio Portes Gil' 'crudalia'\n",
      " 'tacos de barbacoa enfrente del Tec' 'Restaurant Las Mananitas'\n",
      " 'Restaurante El Cielo Potosino' 'Mikasa' 'Cafeteria cenidet'\n",
      " 'Restaurante Tiberius' 'Cabana Huasteca'\n",
      " 'Cafeteria y Restaurant El Pacifico' 'La Virreina'\n",
      " 'Tortas Locas Hipocampo' 'tacos abi' 'la perica hamburguesa'\n",
      " 'McDonalds Centro' 'Chaires' 'Sushi Itto' 'Paniroles'\n",
      " 'Restaurant Bar Coty y Pablo' 'sirloin stockade'] \n",
      "\n",
      "['address'] \n",
      " ['Revolucion' 'esquina santos degollado y leon guzman' 'Universidad 169'\n",
      " 'calle emilio portes gil' 'lic. Emilio portes gil'\n",
      " 'Camino a Simon Diaz 155 Centro' 'Calle Mezquite Fracc Framboyanes' '?'\n",
      " 'tampico' 'Villa de Pozos 192 Villa de Pozos'\n",
      " 'Villa de Pozos 4497 Villa de Pozos' 'Industrias 908 Valle Dorado'\n",
      " 'Venustiano Carranza 1625 Jardin' 'Mexico 2015 Providencia'\n",
      " 'Lateral Salvador Nava Martinez 3145' 'Ricardo B. Anaya' 'carr. mexico'\n",
      " 'agustin de iturbide' 'Plaza del Carmen' 'De Guadalupe 460 San Miguelito'\n",
      " 'Av. V. Carranza' 'Domingo 10 711 El Empleado'\n",
      " '40 Norte Civac 1RA. Seccion' 'Tangamanga 7 Tangamanga'\n",
      " 'avenida salvador montiel ' 'Venustiano Carranza 560 Centro'\n",
      " 'r.b. anaya esq. florencia' 'Ricardo B. Anaya 2700 Estrella de Oriente'\n",
      " 'Satelite 606 Satelite' 'Soledad Sn Arboledas de Soledad'\n",
      " '1a. de Lozada 1' 'Anahuac 805' 'Costado Sur Central Camionera Km 2'\n",
      " 'Nereo Rodriguez Barragan 450 E Centro' 'La Pradera'\n",
      " 'venustiano carranza' 'Francisco I. Madero 215' 'cd. mier'\n",
      " 'Agricultura 595 del Valle' 'Santos Degollado 745 los Alamitos'\n",
      " 'Emiliano Zapata No. 825 Tlaltenongo' 'Alhondiga 62 Centro'\n",
      " 'Estatuto Juridico 1040 Burocratas'\n",
      " 'Federal Mexico - Acapulco 10 3 de Mayo' '20 de Noviembre 1817 Tlaxcala'\n",
      " 'Cordillera de Los Alpes 160 Lomas 2 Seccion'\n",
      " 'Ignacio Allende 785 Centro' 'Venustiano Carranza 2175 Jardin'\n",
      " 'Carretera Central Sn' 'Venustiano Carranza 303 Centro'\n",
      " 'Libramiento Burgos Colonia Las Animas' 'Angel Veral 328 Altamira'\n",
      " 'Guajardo Sn San Luis Potosi Centro' 'Mexico 810 Centro'\n",
      " 'Francisco I. Madero 145 Centro' 'Rio Mayo 17 Vista Hermosa'\n",
      " 'Ignacio Aldama 300 Centro' 'av. seminario' '36 Sur Civac' 'Av. Coral'\n",
      " 'Capitan Caldera No. 420 Tequisqueapan' '69 Tres De Mayo'\n",
      " 'blvrd emilio portes gil'\n",
      " 'General Mariano Arista 1205 Barrio de Tequisquiap' 'NICOLAS ZAPATA 300'\n",
      " 'Himno Nacional 100 Avenida' 'Rio Papaloapan 265 Lomas de San Luis (3)'\n",
      " 'De La Estrella 2005 Estrella de Oriente' 'sevilla y olmedo 715 a'\n",
      " 'circuito oriente esq. carretera 57' 'Jesus Goytortua 390 Tangamanga'\n",
      " 'Av. Saan Luis enttre moctezuma y salinas'\n",
      " 'Emiliano Zapata Col. Tres de Mayo'\n",
      " 'Zaragoza entre Francisco Zarco y Lopez Velarde'\n",
      " 'Rio Mayo Colonia Vista Hermosa Esq. Rio Balsas' 'avenida hivno nacional'\n",
      " 'Pascual M. Hernandez 240' 'Paseo de las Fuentes'\n",
      " 'Miguel Barragan 46 Centro' 'Lomas del Mirador' 'Av. de los Pintores'\n",
      " '524 Soledad de Graciano Sanchez' '16 de Septiembre'\n",
      " 'Cordillera de Los Alpes 675 Loma Verde'\n",
      " 'Pascual M. Hernandez 210 Centro' 'frente al tecnologico'\n",
      " 'Himno Nacional 2104 Tangamanga' 'Emilio Portes Gil'\n",
      " 'Ricardo Linares 107' 'Julian de Los Reyes 400 Centro'\n",
      " 'Himno nacional esq. Blvd. Juarez' 'Interior Internado Palmira SN'\n",
      " 'Munoz Sn Centro' 'Cuauhtemoc 455' 'Constitucion 200 Centro'\n",
      " 'Av. Carranza 830' 'Venustiano Carranza 719 Centro'\n",
      " 'Rayon sn col. Centro' 'Venustiano Carranza 1809 C Polanco'\n",
      " 'Paseo de Las Fuentes 24 Pedregal de Las Fuentes'] \n",
      "\n",
      "['city'] \n",
      " ['Cuernavaca' 's.l.p.' 'San Luis Potosi' 'victoria ' 'victoria'\n",
      " 'Cd Victoria' '?' 'san luis potosi' 'Jiutepec' 'cuernavaca' 'slp'\n",
      " 'Soledad' 'san luis potos' 'san luis potosi ' 'Ciudad Victoria'\n",
      " 'Cd. Victoria' 's.l.p'] \n",
      "\n",
      "['state'] \n",
      " ['Morelos' 's.l.p.' 'San Luis Potosi' 'tamaulipas' 'Tamaulipas' 'SLP' '?'\n",
      " 'san luis potosi' 'morelos' 'slp' 'mexico' 'san luis potos' 'S.L.P.'] \n",
      "\n",
      "['country'] \n",
      " ['Mexico' 'mexico' '?'] \n",
      "\n",
      "['fax'] \n",
      " ['?'] \n",
      "\n",
      "['zip'] \n",
      " ['?' '78280' '78000' '74000' '87018' '78421' '78399' '78250' '78395'\n",
      " '78290' '62250' '78269' '62320' '78000S' '62460' '78430' '78390' '78200'\n",
      " '62170' '78270' '62790' '78038' '78210' '78310' '78740' '62290' '78240'\n",
      " '78396' '78349' '78433' '79300' '78214' '64000' '62000' '78220'] \n",
      "\n",
      "['alcohol'] \n",
      " ['No_Alcohol_Served' 'Wine-Beer' 'Full_Bar'] \n",
      "\n",
      "['smoking_area'] \n",
      " ['none' 'only at bar' 'permitted' 'section' 'not permitted'] \n",
      "\n",
      "['dress_code'] \n",
      " ['informal' 'casual' 'formal'] \n",
      "\n",
      "['accessibility'] \n",
      " ['no_accessibility' 'completely' 'partially'] \n",
      "\n",
      "['price'] \n",
      " ['medium' 'low' 'high'] \n",
      "\n",
      "['url'] \n",
      " ['kikucuernavaca.com.mx' '?' 'carlosandcharlies.com' 'lagranvia.com.mx'\n",
      " 'lunacafe.com.mx' 'reyecito.com' 'lostoneles.com.mx' 'eloceanodorado.com'\n",
      " 'lacantinaslp.com' 'chilis.com.mx' 'lasmananitas.com.mx'\n",
      " 'www.cenidet.edu.mx' 'no' 'sushi-itto.com.mx'] \n",
      "\n",
      "['Rambience'] \n",
      " ['familiar' 'quiet'] \n",
      "\n",
      "['franchise'] \n",
      " ['f' 't'] \n",
      "\n",
      "['area'] \n",
      " ['closed' 'open'] \n",
      "\n",
      "['other_services'] \n",
      " ['none' 'Internet' 'variety'] \n",
      "\n"
     ]
    }
   ],
   "source": [
    "for i in resto_profile.columns:\n",
    "    print(f\"{[i]} \\n {resto_profile[i].unique()} \\n\")"
   ]
  },
  {
   "cell_type": "code",
   "execution_count": 33,
   "id": "e24aa369-a2be-4efd-808e-5f01fbd73924",
   "metadata": {},
   "outputs": [],
   "source": [
    "resto_profile.drop(['the_geom_meter', 'fax', 'zip', 'url'], axis=1, inplace=True)"
   ]
  },
  {
   "cell_type": "code",
   "execution_count": 34,
   "id": "ce83ab2b-f1b8-4756-a0f0-e35dfb5f21ad",
   "metadata": {},
   "outputs": [
    {
     "name": "stdout",
     "output_type": "stream",
     "text": [
      "<class 'pandas.core.frame.DataFrame'>\n",
      "RangeIndex: 130 entries, 0 to 129\n",
      "Data columns (total 17 columns):\n",
      " #   Column          Non-Null Count  Dtype  \n",
      "---  ------          --------------  -----  \n",
      " 0   placeID         130 non-null    int64  \n",
      " 1   latitude        130 non-null    float64\n",
      " 2   longitude       130 non-null    float64\n",
      " 3   name            130 non-null    object \n",
      " 4   address         130 non-null    object \n",
      " 5   city            130 non-null    object \n",
      " 6   state           130 non-null    object \n",
      " 7   country         130 non-null    object \n",
      " 8   alcohol         130 non-null    object \n",
      " 9   smoking_area    130 non-null    object \n",
      " 10  dress_code      130 non-null    object \n",
      " 11  accessibility   130 non-null    object \n",
      " 12  price           130 non-null    object \n",
      " 13  Rambience       130 non-null    object \n",
      " 14  franchise       130 non-null    object \n",
      " 15  area            130 non-null    object \n",
      " 16  other_services  130 non-null    object \n",
      "dtypes: float64(2), int64(1), object(14)\n",
      "memory usage: 17.4+ KB\n"
     ]
    }
   ],
   "source": [
    "resto_profile.info()"
   ]
  },
  {
   "cell_type": "code",
   "execution_count": 35,
   "id": "647e349c-3a91-462e-9703-fcd9b3e3ceeb",
   "metadata": {},
   "outputs": [],
   "source": [
    "resto_profile['city'] = resto_profile['city'].replace(\n",
    "    ('san luis potosi', 'san luis potosi ', 'san luis potos', 's.l.p.', 's.l.p', 'slp', '?'),\n",
    "    'San Luis Potosi'\n",
    ")\n",
    "resto_profile['city'] = resto_profile['city'].replace(\n",
    "    'cuernavaca',\n",
    "    'Cuernavaca'\n",
    ")\n",
    "resto_profile['city'] = resto_profile['city'].replace(\n",
    "    ('victoria', 'victoria ', 'Cd Victoria', 'Cd. Victoria'),\n",
    "    'Ciudad Victoria'\n",
    ")\n",
    "resto_profile['state'] = resto_profile['state'].replace(\n",
    "    ('SLP', 'san luis potosi', 'slp', 'S.L.P.', 'san luis potos', 's.l.p.', '?'),\n",
    "    'San Luis Potosi'\n",
    ")\n",
    "resto_profile['state'] = resto_profile['state'].replace(\n",
    "    'morelos',\n",
    "    'Morelos'\n",
    ")\n",
    "resto_profile['state'] = resto_profile['state'].replace(\n",
    "    'tamaulipas',\n",
    "    'Tamaulipas'\n",
    ")\n",
    "resto_profile['state'] = resto_profile['state'].replace(\n",
    "    'mexico',\n",
    "    'Mexico'\n",
    ")\n",
    "resto_profile['country'] = resto_profile['country'].replace(\n",
    "    ('mexico', '?'),\n",
    "    'Mexico'\n",
    ")"
   ]
  },
  {
   "cell_type": "code",
   "execution_count": 36,
   "id": "172099d4-490a-4544-9310-fbdc5d033424",
   "metadata": {},
   "outputs": [],
   "source": [
    "resto_profile.to_csv('resto_profile.csv', index = False)"
   ]
  },
  {
   "cell_type": "code",
   "execution_count": 37,
   "id": "2071b52e-bec5-46ec-84ac-0b34fcca293b",
   "metadata": {},
   "outputs": [],
   "source": [
    "col_resto_profile = resto_profile.columns\n",
    "def vis_resto_profile(i):\n",
    "    temp = resto_profile[col_resto_profile[i]].value_counts().reset_index()\n",
    "    temp.columns = [col_resto_profile[i], 'number']\n",
    "\n",
    "    plt.pie(\n",
    "        temp['number'],\n",
    "        labels = temp[col_resto_profile[i]],\n",
    "        autopct = '%1.1f%%'\n",
    "    )\n",
    "    plt.title(col_resto_profile[i])"
   ]
  },
  {
   "cell_type": "code",
   "execution_count": 38,
   "id": "028a1322-2677-4bc6-bbae-a760a65db9f5",
   "metadata": {},
   "outputs": [
    {
     "data": {
      "image/png": "[encoded data removed]",
      "text/plain": [
       "<Figure size 1152x1152 with 12 Axes>"
      ]
     },
     "metadata": {},
     "output_type": "display_data"
    }
   ],
   "source": [
    "fig = plt.figure('Resto Profile', figsize = (16, 16))\n",
    "for i in range(5 , len(col_resto_profile)):\n",
    "    plt.subplot(4,3,i-4)\n",
    "    vis_resto_profile(i)\n",
    "    \n",
    "plt.show()"
   ]
  },
  {
   "cell_type": "markdown",
   "id": "d455f6c3-1a6a-4894-b5e4-f62ab9877ad7",
   "metadata": {},
   "source": [
    "## Recommender System with Cosine Similiarity"
   ]
  },
  {
   "cell_type": "markdown",
   "id": "a2bfe3e9-4983-48ac-ba5c-c8c1b37301b6",
   "metadata": {},
   "source": [
    "### Make Description"
   ]
  },
  {
   "cell_type": "code",
   "execution_count": 39,
   "id": "f6453d30-9368-4771-aa4f-0afa324cf85e",
   "metadata": {},
   "outputs": [],
   "source": [
    "resto_profile['desc'] = resto_profile['city'].str.cat(\n",
    "    resto_profile[['alcohol', 'smoking_area', 'dress_code', 'price', 'Rambience', 'area']],\n",
    "    sep = ' '\n",
    ")"
   ]
  },
  {
   "cell_type": "code",
   "execution_count": 40,
   "id": "f8eb4d78-18b3-44cd-b253-4da307654f18",
   "metadata": {},
   "outputs": [
    {
     "data": {
      "text/html": [
       "<div>\n",
       "<style scoped>\n",
       "    .dataframe tbody tr th:only-of-type {\n",
       "        vertical-align: middle;\n",
       "    }\n",
       "\n",
       "    .dataframe tbody tr th {\n",
       "        vertical-align: top;\n",
       "    }\n",
       "\n",
       "    .dataframe thead th {\n",
       "        text-align: right;\n",
       "    }\n",
       "</style>\n",
       "<table border=\"1\" class=\"dataframe\">\n",
       "  <thead>\n",
       "    <tr style=\"text-align: right;\">\n",
       "      <th></th>\n",
       "      <th>placeID</th>\n",
       "      <th>latitude</th>\n",
       "      <th>longitude</th>\n",
       "      <th>name</th>\n",
       "      <th>address</th>\n",
       "      <th>city</th>\n",
       "      <th>state</th>\n",
       "      <th>country</th>\n",
       "      <th>alcohol</th>\n",
       "      <th>smoking_area</th>\n",
       "      <th>dress_code</th>\n",
       "      <th>accessibility</th>\n",
       "      <th>price</th>\n",
       "      <th>Rambience</th>\n",
       "      <th>franchise</th>\n",
       "      <th>area</th>\n",
       "      <th>other_services</th>\n",
       "      <th>desc</th>\n",
       "    </tr>\n",
       "  </thead>\n",
       "  <tbody>\n",
       "    <tr>\n",
       "      <th>0</th>\n",
       "      <td>134999</td>\n",
       "      <td>18.915421</td>\n",
       "      <td>-99.184871</td>\n",
       "      <td>Kiku Cuernavaca</td>\n",
       "      <td>Revolucion</td>\n",
       "      <td>Cuernavaca</td>\n",
       "      <td>Morelos</td>\n",
       "      <td>Mexico</td>\n",
       "      <td>No_Alcohol_Served</td>\n",
       "      <td>none</td>\n",
       "      <td>informal</td>\n",
       "      <td>no_accessibility</td>\n",
       "      <td>medium</td>\n",
       "      <td>familiar</td>\n",
       "      <td>f</td>\n",
       "      <td>closed</td>\n",
       "      <td>none</td>\n",
       "      <td>Cuernavaca No_Alcohol_Served none informal med...</td>\n",
       "    </tr>\n",
       "    <tr>\n",
       "      <th>1</th>\n",
       "      <td>132825</td>\n",
       "      <td>22.147392</td>\n",
       "      <td>-100.983092</td>\n",
       "      <td>puesto de tacos</td>\n",
       "      <td>esquina santos degollado y leon guzman</td>\n",
       "      <td>San Luis Potosi</td>\n",
       "      <td>San Luis Potosi</td>\n",
       "      <td>Mexico</td>\n",
       "      <td>No_Alcohol_Served</td>\n",
       "      <td>none</td>\n",
       "      <td>informal</td>\n",
       "      <td>completely</td>\n",
       "      <td>low</td>\n",
       "      <td>familiar</td>\n",
       "      <td>f</td>\n",
       "      <td>open</td>\n",
       "      <td>none</td>\n",
       "      <td>San Luis Potosi No_Alcohol_Served none informa...</td>\n",
       "    </tr>\n",
       "    <tr>\n",
       "      <th>2</th>\n",
       "      <td>135106</td>\n",
       "      <td>22.149709</td>\n",
       "      <td>-100.976093</td>\n",
       "      <td>El Rinc�n de San Francisco</td>\n",
       "      <td>Universidad 169</td>\n",
       "      <td>San Luis Potosi</td>\n",
       "      <td>San Luis Potosi</td>\n",
       "      <td>Mexico</td>\n",
       "      <td>Wine-Beer</td>\n",
       "      <td>only at bar</td>\n",
       "      <td>informal</td>\n",
       "      <td>partially</td>\n",
       "      <td>medium</td>\n",
       "      <td>familiar</td>\n",
       "      <td>f</td>\n",
       "      <td>open</td>\n",
       "      <td>none</td>\n",
       "      <td>San Luis Potosi Wine-Beer only at bar informal...</td>\n",
       "    </tr>\n",
       "    <tr>\n",
       "      <th>3</th>\n",
       "      <td>132667</td>\n",
       "      <td>23.752697</td>\n",
       "      <td>-99.163359</td>\n",
       "      <td>little pizza Emilio Portes Gil</td>\n",
       "      <td>calle emilio portes gil</td>\n",
       "      <td>Ciudad Victoria</td>\n",
       "      <td>Tamaulipas</td>\n",
       "      <td>Mexico</td>\n",
       "      <td>No_Alcohol_Served</td>\n",
       "      <td>none</td>\n",
       "      <td>informal</td>\n",
       "      <td>completely</td>\n",
       "      <td>low</td>\n",
       "      <td>familiar</td>\n",
       "      <td>t</td>\n",
       "      <td>closed</td>\n",
       "      <td>none</td>\n",
       "      <td>Ciudad Victoria No_Alcohol_Served none informa...</td>\n",
       "    </tr>\n",
       "    <tr>\n",
       "      <th>4</th>\n",
       "      <td>132613</td>\n",
       "      <td>23.752903</td>\n",
       "      <td>-99.165076</td>\n",
       "      <td>carnitas_mata</td>\n",
       "      <td>lic. Emilio portes gil</td>\n",
       "      <td>Ciudad Victoria</td>\n",
       "      <td>Tamaulipas</td>\n",
       "      <td>Mexico</td>\n",
       "      <td>No_Alcohol_Served</td>\n",
       "      <td>permitted</td>\n",
       "      <td>informal</td>\n",
       "      <td>completely</td>\n",
       "      <td>medium</td>\n",
       "      <td>familiar</td>\n",
       "      <td>t</td>\n",
       "      <td>closed</td>\n",
       "      <td>none</td>\n",
       "      <td>Ciudad Victoria No_Alcohol_Served permitted in...</td>\n",
       "    </tr>\n",
       "  </tbody>\n",
       "</table>\n",
       "</div>"
      ],
      "text/plain": [
       "   placeID   latitude   longitude                            name  \\\n",
       "0   134999  18.915421  -99.184871                 Kiku Cuernavaca   \n",
       "1   132825  22.147392 -100.983092                 puesto de tacos   \n",
       "2   135106  22.149709 -100.976093      El Rinc�n de San Francisco   \n",
       "3   132667  23.752697  -99.163359  little pizza Emilio Portes Gil   \n",
       "4   132613  23.752903  -99.165076                   carnitas_mata   \n",
       "\n",
       "                                  address             city            state  \\\n",
       "0                              Revolucion       Cuernavaca          Morelos   \n",
       "1  esquina santos degollado y leon guzman  San Luis Potosi  San Luis Potosi   \n",
       "2                         Universidad 169  San Luis Potosi  San Luis Potosi   \n",
       "3                 calle emilio portes gil  Ciudad Victoria       Tamaulipas   \n",
       "4                  lic. Emilio portes gil  Ciudad Victoria       Tamaulipas   \n",
       "\n",
       "  country            alcohol smoking_area dress_code     accessibility  \\\n",
       "0  Mexico  No_Alcohol_Served         none   informal  no_accessibility   \n",
       "1  Mexico  No_Alcohol_Served         none   informal        completely   \n",
       "2  Mexico          Wine-Beer  only at bar   informal         partially   \n",
       "3  Mexico  No_Alcohol_Served         none   informal        completely   \n",
       "4  Mexico  No_Alcohol_Served    permitted   informal        completely   \n",
       "\n",
       "    price Rambience franchise    area other_services  \\\n",
       "0  medium  familiar         f  closed           none   \n",
       "1     low  familiar         f    open           none   \n",
       "2  medium  familiar         f    open           none   \n",
       "3     low  familiar         t  closed           none   \n",
       "4  medium  familiar         t  closed           none   \n",
       "\n",
       "                                                desc  \n",
       "0  Cuernavaca No_Alcohol_Served none informal med...  \n",
       "1  San Luis Potosi No_Alcohol_Served none informa...  \n",
       "2  San Luis Potosi Wine-Beer only at bar informal...  \n",
       "3  Ciudad Victoria No_Alcohol_Served none informa...  \n",
       "4  Ciudad Victoria No_Alcohol_Served permitted in...  "
      ]
     },
     "execution_count": 40,
     "metadata": {},
     "output_type": "execute_result"
    }
   ],
   "source": [
    "resto_profile.head()"
   ]
  },
  {
   "cell_type": "code",
   "execution_count": 42,
   "id": "33bf1baa-43e4-4fbd-ba6e-fa6bb7376622",
   "metadata": {},
   "outputs": [
    {
     "name": "stderr",
     "output_type": "stream",
     "text": [
      "c:\\users\\asus\\appdata\\local\\programs\\python\\python39\\lib\\site-packages\\sklearn\\utils\\deprecation.py:87: FutureWarning: Function get_feature_names is deprecated; get_feature_names is deprecated in 1.0 and will be removed in 1.2. Please use get_feature_names_out instead.\n",
      "  warnings.warn(msg, category=FutureWarning)\n"
     ]
    }
   ],
   "source": [
    "CV = CountVectorizer(\n",
    "    tokenizer = lambda i: i.split(' '),\n",
    "    analyzer = 'word'\n",
    ")\n",
    "matrix = CV.fit_transform(resto_profile['desc'])\n",
    "type_desc = CV.get_feature_names()\n",
    "s_desc = len(type_desc)\n",
    "e_desc = matrix.toarray()"
   ]
  },
  {
   "cell_type": "code",
   "execution_count": 43,
   "id": "df1e8282-5537-4b32-8da8-b06a22982bac",
   "metadata": {},
   "outputs": [
    {
     "name": "stdout",
     "output_type": "stream",
     "text": [
      "28\n"
     ]
    }
   ],
   "source": [
    "print(s_desc)"
   ]
  },
  {
   "cell_type": "code",
   "execution_count": 44,
   "id": "11e6a321-28c3-4bcb-814a-52c13e92f7eb",
   "metadata": {},
   "outputs": [
    {
     "name": "stdout",
     "output_type": "stream",
     "text": [
      "[[0 0 0 ... 0 0 0]\n",
      " [0 0 0 ... 0 0 0]\n",
      " [1 1 0 ... 0 0 1]\n",
      " ...\n",
      " [0 0 0 ... 0 0 1]\n",
      " [0 0 0 ... 0 0 0]\n",
      " [0 0 0 ... 0 0 0]]\n"
     ]
    }
   ],
   "source": [
    "print(e_desc)"
   ]
  },
  {
   "cell_type": "code",
   "execution_count": 45,
   "id": "61d8b001-2e2f-4529-b107-397689e9e823",
   "metadata": {},
   "outputs": [
    {
     "data": {
      "text/plain": [
       "array([[1.        , 0.50395263, 0.34188173, ..., 0.35856858, 0.71428571,\n",
       "        0.62994079],\n",
       "       [0.50395263, 1.        , 0.60302269, ..., 0.42163702, 0.62994079,\n",
       "        0.88888889],\n",
       "       [0.34188173, 0.60302269, 1.        , ..., 0.57207755, 0.22792115,\n",
       "        0.50251891],\n",
       "       ...,\n",
       "       [0.35856858, 0.42163702, 0.57207755, ..., 1.        , 0.23904572,\n",
       "        0.52704628],\n",
       "       [0.71428571, 0.62994079, 0.22792115, ..., 0.23904572, 1.        ,\n",
       "        0.75592895],\n",
       "       [0.62994079, 0.88888889, 0.50251891, ..., 0.52704628, 0.75592895,\n",
       "        1.        ]])"
      ]
     },
     "execution_count": 45,
     "metadata": {},
     "output_type": "execute_result"
    }
   ],
   "source": [
    "score = cosine_similarity(matrix)\n",
    "score"
   ]
  },
  {
   "cell_type": "markdown",
   "id": "717c8bf2-5b4b-4a64-b0ac-ab6ca3dde33a",
   "metadata": {},
   "source": [
    "## Model Machine Learning"
   ]
  },
  {
   "cell_type": "code",
   "execution_count": 62,
   "id": "6b19021e-5d63-4f88-aae6-bf1d590c74c8",
   "metadata": {},
   "outputs": [],
   "source": [
    "logreg = LogisticRegression(random_state=15)\n",
    "knn = KNeighborsClassifier()\n",
    "m_svm = SVC(kernel = 'rbf', gamma = 0.5)\n",
    "rfc = RandomForestClassifier(random_state=15)\n",
    "dtc = DecisionTreeClassifier(random_state=15)"
   ]
  },
  {
   "cell_type": "code",
   "execution_count": 48,
   "id": "1a49ec8b-3696-44c1-8d94-cecd637ad49d",
   "metadata": {},
   "outputs": [],
   "source": [
    "X = resto_profile.drop(\n",
    "    ['placeID', 'latitude', 'longitude', 'name', 'address', 'state', 'country', 'accessibility',\n",
    "    'franchise', 'other_services', 'desc'], axis = 1)"
   ]
  },
  {
   "cell_type": "code",
   "execution_count": 50,
   "id": "80e5c799-40fa-47e4-a1f2-8069a79147a0",
   "metadata": {},
   "outputs": [
    {
     "data": {
      "text/html": [
       "<div>\n",
       "<style scoped>\n",
       "    .dataframe tbody tr th:only-of-type {\n",
       "        vertical-align: middle;\n",
       "    }\n",
       "\n",
       "    .dataframe tbody tr th {\n",
       "        vertical-align: top;\n",
       "    }\n",
       "\n",
       "    .dataframe thead th {\n",
       "        text-align: right;\n",
       "    }\n",
       "</style>\n",
       "<table border=\"1\" class=\"dataframe\">\n",
       "  <thead>\n",
       "    <tr style=\"text-align: right;\">\n",
       "      <th></th>\n",
       "      <th>city</th>\n",
       "      <th>alcohol</th>\n",
       "      <th>smoking_area</th>\n",
       "      <th>dress_code</th>\n",
       "      <th>price</th>\n",
       "      <th>Rambience</th>\n",
       "      <th>area</th>\n",
       "    </tr>\n",
       "  </thead>\n",
       "  <tbody>\n",
       "    <tr>\n",
       "      <th>0</th>\n",
       "      <td>Cuernavaca</td>\n",
       "      <td>No_Alcohol_Served</td>\n",
       "      <td>none</td>\n",
       "      <td>informal</td>\n",
       "      <td>medium</td>\n",
       "      <td>familiar</td>\n",
       "      <td>closed</td>\n",
       "    </tr>\n",
       "    <tr>\n",
       "      <th>1</th>\n",
       "      <td>San Luis Potosi</td>\n",
       "      <td>No_Alcohol_Served</td>\n",
       "      <td>none</td>\n",
       "      <td>informal</td>\n",
       "      <td>low</td>\n",
       "      <td>familiar</td>\n",
       "      <td>open</td>\n",
       "    </tr>\n",
       "    <tr>\n",
       "      <th>2</th>\n",
       "      <td>San Luis Potosi</td>\n",
       "      <td>Wine-Beer</td>\n",
       "      <td>only at bar</td>\n",
       "      <td>informal</td>\n",
       "      <td>medium</td>\n",
       "      <td>familiar</td>\n",
       "      <td>open</td>\n",
       "    </tr>\n",
       "    <tr>\n",
       "      <th>3</th>\n",
       "      <td>Ciudad Victoria</td>\n",
       "      <td>No_Alcohol_Served</td>\n",
       "      <td>none</td>\n",
       "      <td>informal</td>\n",
       "      <td>low</td>\n",
       "      <td>familiar</td>\n",
       "      <td>closed</td>\n",
       "    </tr>\n",
       "    <tr>\n",
       "      <th>4</th>\n",
       "      <td>Ciudad Victoria</td>\n",
       "      <td>No_Alcohol_Served</td>\n",
       "      <td>permitted</td>\n",
       "      <td>informal</td>\n",
       "      <td>medium</td>\n",
       "      <td>familiar</td>\n",
       "      <td>closed</td>\n",
       "    </tr>\n",
       "  </tbody>\n",
       "</table>\n",
       "</div>"
      ],
      "text/plain": [
       "              city            alcohol smoking_area dress_code   price  \\\n",
       "0       Cuernavaca  No_Alcohol_Served         none   informal  medium   \n",
       "1  San Luis Potosi  No_Alcohol_Served         none   informal     low   \n",
       "2  San Luis Potosi          Wine-Beer  only at bar   informal  medium   \n",
       "3  Ciudad Victoria  No_Alcohol_Served         none   informal     low   \n",
       "4  Ciudad Victoria  No_Alcohol_Served    permitted   informal  medium   \n",
       "\n",
       "  Rambience    area  \n",
       "0  familiar  closed  \n",
       "1  familiar    open  \n",
       "2  familiar    open  \n",
       "3  familiar  closed  \n",
       "4  familiar  closed  "
      ]
     },
     "execution_count": 50,
     "metadata": {},
     "output_type": "execute_result"
    }
   ],
   "source": [
    "X.head()"
   ]
  },
  {
   "cell_type": "code",
   "execution_count": 55,
   "id": "dead98a5-2893-43f4-9b6a-93e1502640fd",
   "metadata": {},
   "outputs": [],
   "source": [
    "cat = [\"city\", \"alcohol\", \"smoking_area\", \"dress_code\", \"price\", \"Rambience\", \"area\"]"
   ]
  },
  {
   "cell_type": "code",
   "execution_count": 51,
   "id": "a0f9c844-9180-4c36-9764-f8c3a7fb1d7a",
   "metadata": {},
   "outputs": [],
   "source": [
    "y = resto_profile['name']"
   ]
  },
  {
   "cell_type": "code",
   "execution_count": 61,
   "id": "b37d4f8e-2df2-48c6-8ec4-8d1bc643b025",
   "metadata": {},
   "outputs": [],
   "source": [
    "onehot_pipeline = Pipeline([\n",
    "    ('onehot', OneHotEncoder(drop='first'))\n",
    "])\n",
    "\n",
    "transformer = ColumnTransformer([\n",
    "    ('onehot_pipe', onehot_pipeline, cat)\n",
    "], remainder='passthrough')"
   ]
  },
  {
   "cell_type": "markdown",
   "id": "c1d46c6b-4e17-4cdb-aa29-ba840bb0b95e",
   "metadata": {},
   "source": [
    "## LOGREG"
   ]
  },
  {
   "cell_type": "code",
   "execution_count": 63,
   "id": "e542094a-bb35-4297-8eff-05ff7ce3cf4d",
   "metadata": {},
   "outputs": [],
   "source": [
    "logreg_pipe = Pipeline([\n",
    "    ('transformer', transformer),\n",
    "    ('logreg', logreg)\n",
    "])"
   ]
  },
  {
   "cell_type": "code",
   "execution_count": 64,
   "id": "d14b01fa-8c4c-41c1-834a-6e2b4000a5ef",
   "metadata": {},
   "outputs": [
    {
     "data": {
      "text/plain": [
       "Pipeline(steps=[('transformer',\n",
       "                 ColumnTransformer(remainder='passthrough',\n",
       "                                   transformers=[('onehot_pipe',\n",
       "                                                  Pipeline(steps=[('onehot',\n",
       "                                                                   OneHotEncoder(drop='first'))]),\n",
       "                                                  ['city', 'alcohol',\n",
       "                                                   'smoking_area', 'dress_code',\n",
       "                                                   'price', 'Rambience',\n",
       "                                                   'area'])])),\n",
       "                ('logreg', LogisticRegression(random_state=15))])"
      ]
     },
     "execution_count": 64,
     "metadata": {},
     "output_type": "execute_result"
    }
   ],
   "source": [
    "logreg_pipe.fit(X, y)"
   ]
  },
  {
   "cell_type": "code",
   "execution_count": 65,
   "id": "78c3bdd4-4037-46a6-833d-89cae80f287b",
   "metadata": {},
   "outputs": [
    {
     "name": "stdout",
     "output_type": "stream",
     "text": [
      "Accuracy = 40.77%\n"
     ]
    }
   ],
   "source": [
    "print('Accuracy = {}%'.format(round(logreg_pipe.score(X, y) * 100, 2)))"
   ]
  },
  {
   "cell_type": "markdown",
   "id": "ccb9979d-0ad0-4268-899b-2086cec10ab6",
   "metadata": {},
   "source": [
    "## SVM"
   ]
  },
  {
   "cell_type": "code",
   "execution_count": 66,
   "id": "904845e9-15c9-4c72-8384-5759943ee775",
   "metadata": {},
   "outputs": [],
   "source": [
    "svm_pipe = Pipeline([\n",
    "    ('transformer', transformer),\n",
    "    ('logreg', m_svm)\n",
    "])"
   ]
  },
  {
   "cell_type": "code",
   "execution_count": 67,
   "id": "1b1a2147-1647-4a19-9e4b-2cb98595de2d",
   "metadata": {},
   "outputs": [
    {
     "data": {
      "text/plain": [
       "Pipeline(steps=[('transformer',\n",
       "                 ColumnTransformer(remainder='passthrough',\n",
       "                                   transformers=[('onehot_pipe',\n",
       "                                                  Pipeline(steps=[('onehot',\n",
       "                                                                   OneHotEncoder(drop='first'))]),\n",
       "                                                  ['city', 'alcohol',\n",
       "                                                   'smoking_area', 'dress_code',\n",
       "                                                   'price', 'Rambience',\n",
       "                                                   'area'])])),\n",
       "                ('logreg', SVC(gamma=0.5))])"
      ]
     },
     "execution_count": 67,
     "metadata": {},
     "output_type": "execute_result"
    }
   ],
   "source": [
    "svm_pipe.fit(X, y)"
   ]
  },
  {
   "cell_type": "code",
   "execution_count": 68,
   "id": "c47aca7f-2fd5-46f6-bff0-c0dbf4fc8f80",
   "metadata": {},
   "outputs": [
    {
     "name": "stdout",
     "output_type": "stream",
     "text": [
      "Accuracy = 40.77%\n"
     ]
    }
   ],
   "source": [
    "print('Accuracy = {}%'.format(round(svm_pipe.score(X, y) * 100, 2)))"
   ]
  },
  {
   "cell_type": "markdown",
   "id": "0f58611d-7e46-4f75-8158-824ffd8ab0b2",
   "metadata": {},
   "source": [
    "## KNN"
   ]
  },
  {
   "cell_type": "code",
   "execution_count": 69,
   "id": "b1440f12-e2f6-4c67-a991-3e0940cd1411",
   "metadata": {},
   "outputs": [],
   "source": [
    "knn_pipe = Pipeline([\n",
    "    ('transformer', transformer),\n",
    "    ('logreg', knn)\n",
    "])"
   ]
  },
  {
   "cell_type": "code",
   "execution_count": 70,
   "id": "6934cf40-9f78-470c-84d9-4a7f181fa9e0",
   "metadata": {},
   "outputs": [
    {
     "data": {
      "text/plain": [
       "Pipeline(steps=[('transformer',\n",
       "                 ColumnTransformer(remainder='passthrough',\n",
       "                                   transformers=[('onehot_pipe',\n",
       "                                                  Pipeline(steps=[('onehot',\n",
       "                                                                   OneHotEncoder(drop='first'))]),\n",
       "                                                  ['city', 'alcohol',\n",
       "                                                   'smoking_area', 'dress_code',\n",
       "                                                   'price', 'Rambience',\n",
       "                                                   'area'])])),\n",
       "                ('logreg', KNeighborsClassifier())])"
      ]
     },
     "execution_count": 70,
     "metadata": {},
     "output_type": "execute_result"
    }
   ],
   "source": [
    "knn_pipe.fit(X, y)"
   ]
  },
  {
   "cell_type": "code",
   "execution_count": 71,
   "id": "8c4f266f-08ad-4c5b-a21b-c16a903cac7b",
   "metadata": {},
   "outputs": [
    {
     "name": "stdout",
     "output_type": "stream",
     "text": [
      "Accuracy = 14.62%\n"
     ]
    }
   ],
   "source": [
    "print('Accuracy = {}%'.format(round(knn_pipe.score(X, y) * 100, 2)))"
   ]
  },
  {
   "cell_type": "markdown",
   "id": "5bdf931a-a38b-427f-9256-a7fdc5d7f0be",
   "metadata": {},
   "source": [
    "## RFC"
   ]
  },
  {
   "cell_type": "code",
   "execution_count": 74,
   "id": "17827a3d-56ff-486b-adc8-06b508f03b51",
   "metadata": {},
   "outputs": [],
   "source": [
    "rfc_pipe = Pipeline([\n",
    "    ('transformer', transformer),\n",
    "    ('logreg', rfc)\n",
    "])"
   ]
  },
  {
   "cell_type": "code",
   "execution_count": 75,
   "id": "fcaf3a48-b830-454f-9f2a-7bb971004863",
   "metadata": {},
   "outputs": [
    {
     "data": {
      "text/plain": [
       "Pipeline(steps=[('transformer',\n",
       "                 ColumnTransformer(remainder='passthrough',\n",
       "                                   transformers=[('onehot_pipe',\n",
       "                                                  Pipeline(steps=[('onehot',\n",
       "                                                                   OneHotEncoder(drop='first'))]),\n",
       "                                                  ['city', 'alcohol',\n",
       "                                                   'smoking_area', 'dress_code',\n",
       "                                                   'price', 'Rambience',\n",
       "                                                   'area'])])),\n",
       "                ('logreg', RandomForestClassifier(random_state=15))])"
      ]
     },
     "execution_count": 75,
     "metadata": {},
     "output_type": "execute_result"
    }
   ],
   "source": [
    "rfc_pipe.fit(X, y)"
   ]
  },
  {
   "cell_type": "code",
   "execution_count": 76,
   "id": "9641c555-91f5-4414-b07c-8f18eac04a4f",
   "metadata": {},
   "outputs": [
    {
     "name": "stdout",
     "output_type": "stream",
     "text": [
      "Accuracy = 43.08%\n"
     ]
    }
   ],
   "source": [
    "print('Accuracy = {}%'.format(round(rfc_pipe.score(X, y) * 100, 2)))"
   ]
  },
  {
   "cell_type": "markdown",
   "id": "3e622615-33a0-4a12-9f6b-e60ecbe8faa6",
   "metadata": {},
   "source": [
    "## DTC"
   ]
  },
  {
   "cell_type": "code",
   "execution_count": 77,
   "id": "243716c4-2263-4da2-b50f-934b1174493a",
   "metadata": {},
   "outputs": [],
   "source": [
    "dtc_pipe = Pipeline([\n",
    "    ('transformer', transformer),\n",
    "    ('logreg', dtc)\n",
    "])"
   ]
  },
  {
   "cell_type": "code",
   "execution_count": 78,
   "id": "79cac6f5-9ce9-408e-b039-2d702c00a747",
   "metadata": {},
   "outputs": [
    {
     "data": {
      "text/plain": [
       "Pipeline(steps=[('transformer',\n",
       "                 ColumnTransformer(remainder='passthrough',\n",
       "                                   transformers=[('onehot_pipe',\n",
       "                                                  Pipeline(steps=[('onehot',\n",
       "                                                                   OneHotEncoder(drop='first'))]),\n",
       "                                                  ['city', 'alcohol',\n",
       "                                                   'smoking_area', 'dress_code',\n",
       "                                                   'price', 'Rambience',\n",
       "                                                   'area'])])),\n",
       "                ('logreg', DecisionTreeClassifier(random_state=15))])"
      ]
     },
     "execution_count": 78,
     "metadata": {},
     "output_type": "execute_result"
    }
   ],
   "source": [
    "dtc_pipe.fit(X, y)"
   ]
  },
  {
   "cell_type": "code",
   "execution_count": 79,
   "id": "8e176eb3-962e-4a3e-803f-a4cfae941490",
   "metadata": {},
   "outputs": [
    {
     "name": "stdout",
     "output_type": "stream",
     "text": [
      "Accuracy = 43.08%\n"
     ]
    }
   ],
   "source": [
    "print('Accuracy = {}%'.format(round(dtc_pipe.score(X, y) * 100, 2)))"
   ]
  },
  {
   "cell_type": "markdown",
   "id": "07609e6e-5d38-4af1-b44c-ba32cfcecb82",
   "metadata": {},
   "source": [
    "## RFC Inference"
   ]
  },
  {
   "cell_type": "code",
   "execution_count": 80,
   "id": "28918661-3067-4de0-a5c5-09f11dea7490",
   "metadata": {},
   "outputs": [
    {
     "data": {
      "text/html": [
       "<div>\n",
       "<style scoped>\n",
       "    .dataframe tbody tr th:only-of-type {\n",
       "        vertical-align: middle;\n",
       "    }\n",
       "\n",
       "    .dataframe tbody tr th {\n",
       "        vertical-align: top;\n",
       "    }\n",
       "\n",
       "    .dataframe thead th {\n",
       "        text-align: right;\n",
       "    }\n",
       "</style>\n",
       "<table border=\"1\" class=\"dataframe\">\n",
       "  <thead>\n",
       "    <tr style=\"text-align: right;\">\n",
       "      <th></th>\n",
       "      <th>city</th>\n",
       "      <th>alcohol</th>\n",
       "      <th>smoking_area</th>\n",
       "      <th>dress_code</th>\n",
       "      <th>price</th>\n",
       "      <th>Rambience</th>\n",
       "      <th>area</th>\n",
       "    </tr>\n",
       "  </thead>\n",
       "  <tbody>\n",
       "    <tr>\n",
       "      <th>0</th>\n",
       "      <td>Cuernavaca</td>\n",
       "      <td>No_Alcohol_Served</td>\n",
       "      <td>none</td>\n",
       "      <td>informal</td>\n",
       "      <td>medium</td>\n",
       "      <td>familiar</td>\n",
       "      <td>closed</td>\n",
       "    </tr>\n",
       "    <tr>\n",
       "      <th>1</th>\n",
       "      <td>San Luis Potosi</td>\n",
       "      <td>No_Alcohol_Served</td>\n",
       "      <td>none</td>\n",
       "      <td>informal</td>\n",
       "      <td>low</td>\n",
       "      <td>familiar</td>\n",
       "      <td>open</td>\n",
       "    </tr>\n",
       "    <tr>\n",
       "      <th>2</th>\n",
       "      <td>San Luis Potosi</td>\n",
       "      <td>Wine-Beer</td>\n",
       "      <td>only at bar</td>\n",
       "      <td>informal</td>\n",
       "      <td>medium</td>\n",
       "      <td>familiar</td>\n",
       "      <td>open</td>\n",
       "    </tr>\n",
       "    <tr>\n",
       "      <th>3</th>\n",
       "      <td>Ciudad Victoria</td>\n",
       "      <td>No_Alcohol_Served</td>\n",
       "      <td>none</td>\n",
       "      <td>informal</td>\n",
       "      <td>low</td>\n",
       "      <td>familiar</td>\n",
       "      <td>closed</td>\n",
       "    </tr>\n",
       "    <tr>\n",
       "      <th>4</th>\n",
       "      <td>Ciudad Victoria</td>\n",
       "      <td>No_Alcohol_Served</td>\n",
       "      <td>permitted</td>\n",
       "      <td>informal</td>\n",
       "      <td>medium</td>\n",
       "      <td>familiar</td>\n",
       "      <td>closed</td>\n",
       "    </tr>\n",
       "  </tbody>\n",
       "</table>\n",
       "</div>"
      ],
      "text/plain": [
       "              city            alcohol smoking_area dress_code   price  \\\n",
       "0       Cuernavaca  No_Alcohol_Served         none   informal  medium   \n",
       "1  San Luis Potosi  No_Alcohol_Served         none   informal     low   \n",
       "2  San Luis Potosi          Wine-Beer  only at bar   informal  medium   \n",
       "3  Ciudad Victoria  No_Alcohol_Served         none   informal     low   \n",
       "4  Ciudad Victoria  No_Alcohol_Served    permitted   informal  medium   \n",
       "\n",
       "  Rambience    area  \n",
       "0  familiar  closed  \n",
       "1  familiar    open  \n",
       "2  familiar    open  \n",
       "3  familiar  closed  \n",
       "4  familiar  closed  "
      ]
     },
     "execution_count": 80,
     "metadata": {},
     "output_type": "execute_result"
    }
   ],
   "source": [
    "X.head()"
   ]
  },
  {
   "cell_type": "code",
   "execution_count": 163,
   "id": "08e734cf-2e09-45bc-b740-1beeb28711a4",
   "metadata": {},
   "outputs": [
    {
     "name": "stdout",
     "output_type": "stream",
     "text": [
      "['city'] \n",
      " ['Cuernavaca' 'San Luis Potosi' 'Ciudad Victoria' 'Jiutepec' 'Soledad'] \n",
      "\n",
      "['alcohol'] \n",
      " ['No_Alcohol_Served' 'Wine-Beer' 'Full_Bar'] \n",
      "\n",
      "['smoking_area'] \n",
      " ['none' 'only at bar' 'permitted' 'section' 'not permitted'] \n",
      "\n",
      "['dress_code'] \n",
      " ['informal' 'casual' 'formal'] \n",
      "\n",
      "['price'] \n",
      " ['medium' 'low' 'high'] \n",
      "\n",
      "['Rambience'] \n",
      " ['familiar' 'quiet'] \n",
      "\n",
      "['area'] \n",
      " ['closed' 'open'] \n",
      "\n"
     ]
    }
   ],
   "source": [
    "for i in X.columns:\n",
    "    print(f\"{[i]} \\n {X[i].unique()} \\n\")"
   ]
  },
  {
   "cell_type": "code",
   "execution_count": 147,
   "id": "0f8299f9-b747-4c8e-a76e-04890f55eccb",
   "metadata": {},
   "outputs": [],
   "source": [
    "pred = pd.DataFrame([{\n",
    "    'city': \"Cuernavaca\",\n",
    "    'alcohol': 'Wine-Beer',\n",
    "    'smoking_area': 'none',\n",
    "    'dress_code': 'formal',\n",
    "    'price' : 'medium',\n",
    "    'Rambience': 'familiar',\n",
    "    'area': 'open'\n",
    "}], index=[0])"
   ]
  },
  {
   "cell_type": "code",
   "execution_count": 148,
   "id": "f768248d-01e9-42cf-8761-8189b9846e6d",
   "metadata": {},
   "outputs": [
    {
     "data": {
      "text/plain": [
       "'Restaurant Las Mananitas'"
      ]
     },
     "execution_count": 148,
     "metadata": {},
     "output_type": "execute_result"
    }
   ],
   "source": [
    "result = rfc_pipe.predict(pred)[0]\n",
    "result"
   ]
  },
  {
   "cell_type": "markdown",
   "id": "3a37dc43-4492-48f3-aaba-369743a668c8",
   "metadata": {},
   "source": [
    "## Rec.System"
   ]
  },
  {
   "cell_type": "code",
   "execution_count": 149,
   "id": "f803ca16-aa92-45d0-b897-7308ae14489b",
   "metadata": {},
   "outputs": [
    {
     "data": {
      "text/html": [
       "<div>\n",
       "<style scoped>\n",
       "    .dataframe tbody tr th:only-of-type {\n",
       "        vertical-align: middle;\n",
       "    }\n",
       "\n",
       "    .dataframe tbody tr th {\n",
       "        vertical-align: top;\n",
       "    }\n",
       "\n",
       "    .dataframe thead th {\n",
       "        text-align: right;\n",
       "    }\n",
       "</style>\n",
       "<table border=\"1\" class=\"dataframe\">\n",
       "  <thead>\n",
       "    <tr style=\"text-align: right;\">\n",
       "      <th></th>\n",
       "      <th>placeID</th>\n",
       "      <th>latitude</th>\n",
       "      <th>longitude</th>\n",
       "      <th>name</th>\n",
       "      <th>address</th>\n",
       "      <th>city</th>\n",
       "      <th>state</th>\n",
       "      <th>country</th>\n",
       "      <th>alcohol</th>\n",
       "      <th>smoking_area</th>\n",
       "      <th>dress_code</th>\n",
       "      <th>accessibility</th>\n",
       "      <th>price</th>\n",
       "      <th>Rambience</th>\n",
       "      <th>franchise</th>\n",
       "      <th>area</th>\n",
       "      <th>other_services</th>\n",
       "      <th>desc</th>\n",
       "    </tr>\n",
       "  </thead>\n",
       "  <tbody>\n",
       "    <tr>\n",
       "      <th>112</th>\n",
       "      <td>134986</td>\n",
       "      <td>18.928798</td>\n",
       "      <td>-99.239513</td>\n",
       "      <td>Restaurant Las Mananitas</td>\n",
       "      <td>Ricardo Linares 107</td>\n",
       "      <td>Cuernavaca</td>\n",
       "      <td>Morelos</td>\n",
       "      <td>Mexico</td>\n",
       "      <td>Wine-Beer</td>\n",
       "      <td>none</td>\n",
       "      <td>formal</td>\n",
       "      <td>no_accessibility</td>\n",
       "      <td>high</td>\n",
       "      <td>familiar</td>\n",
       "      <td>f</td>\n",
       "      <td>closed</td>\n",
       "      <td>none</td>\n",
       "      <td>Cuernavaca Wine-Beer none formal high familiar...</td>\n",
       "    </tr>\n",
       "  </tbody>\n",
       "</table>\n",
       "</div>"
      ],
      "text/plain": [
       "     placeID   latitude  longitude                      name  \\\n",
       "112   134986  18.928798 -99.239513  Restaurant Las Mananitas   \n",
       "\n",
       "                 address        city    state country    alcohol smoking_area  \\\n",
       "112  Ricardo Linares 107  Cuernavaca  Morelos  Mexico  Wine-Beer         none   \n",
       "\n",
       "    dress_code     accessibility price Rambience franchise    area  \\\n",
       "112     formal  no_accessibility  high  familiar         f  closed   \n",
       "\n",
       "    other_services                                               desc  \n",
       "112           none  Cuernavaca Wine-Beer none formal high familiar...  "
      ]
     },
     "metadata": {},
     "output_type": "display_data"
    }
   ],
   "source": [
    "display(resto_profile[resto_profile['name'] == result])"
   ]
  },
  {
   "cell_type": "code",
   "execution_count": 150,
   "id": "42f9f82b-b1e4-4f90-83f7-e34c3f00eeeb",
   "metadata": {},
   "outputs": [],
   "source": [
    "index_res = resto_profile[resto_profile['name'] == result].index.values[0]"
   ]
  },
  {
   "cell_type": "code",
   "execution_count": 151,
   "id": "50b63a9d-f523-48f4-930b-add4d302de5b",
   "metadata": {},
   "outputs": [],
   "source": [
    "resto = list(enumerate(score[index_res]))"
   ]
  },
  {
   "cell_type": "code",
   "execution_count": 152,
   "id": "3e036aba-5525-4bea-8155-139f56e5ae93",
   "metadata": {},
   "outputs": [],
   "source": [
    "similar = sorted(\n",
    "    resto,\n",
    "    key = lambda i: i[1],\n",
    "    reverse = True\n",
    ")"
   ]
  },
  {
   "cell_type": "code",
   "execution_count": 153,
   "id": "dfbdcbc6-54af-4589-8fe7-9dc918cb251f",
   "metadata": {},
   "outputs": [
    {
     "name": "stdout",
     "output_type": "stream",
     "text": [
      "Resto = Mikasa | City = Cuernavaca | Alcohol = Wine-Beer | Smoking Area = none | Dress Code = informal | Price = medium | Ambience = familiar | Area = closed | Latitude = 18.9101777 | Longitude = -99.2315438\n",
      "Resto = Vips | City = Cuernavaca | Alcohol = Wine-Beer | Smoking Area = none | Dress Code = informal | Price = medium | Ambience = familiar | Area = closed | Latitude = 18.941859 | Longitude = -99.241927\n",
      "Resto = Restaurante la Estrella de Dima | City = Soledad | Alcohol = Wine-Beer | Smoking Area = none | Dress Code = informal | Price = high | Ambience = familiar | Area = closed | Latitude = 22.174887 | Longitude = -100.970825\n",
      "Resto = Vips | City = Cuernavaca | Alcohol = Wine-Beer | Smoking Area = none | Dress Code = informal | Price = medium | Ambience = familiar | Area = closed | Latitude = 18.941859 | Longitude = -99.241927\n",
      "Resto = Restaurant Teely | City = Cuernavaca | Alcohol = Wine-Beer | Smoking Area = section | Dress Code = casual | Price = high | Ambience = familiar | Area = closed | Latitude = 18.936683 | Longitude = -99.247366\n"
     ]
    }
   ],
   "source": [
    "recom = []\n",
    "for i in similar:\n",
    "    if i[1] > 0.7:\n",
    "        recom.append(i)\n",
    "    else:\n",
    "        pass\n",
    "\n",
    "import random\n",
    "rek = random.choices(recom, k = 5)\n",
    "\n",
    "for i in rek:\n",
    "    print('Resto = {} | City = {} | Alcohol = {} | Smoking Area = {} | Dress Code = {} | Price = {} | Ambience = {} | Area = {} | Latitude = {} | Longitude = {}'.format(\n",
    "        resto_profile.iloc[i[0]]['name'],\n",
    "        resto_profile.iloc[i[0]]['city'],\n",
    "        resto_profile.iloc[i[0]]['alcohol'],\n",
    "        resto_profile.iloc[i[0]]['smoking_area'],\n",
    "        resto_profile.iloc[i[0]]['dress_code'],\n",
    "        resto_profile.iloc[i[0]]['price'],\n",
    "        resto_profile.iloc[i[0]]['Rambience'],\n",
    "        resto_profile.iloc[i[0]]['area'],\n",
    "        resto_profile.iloc[i[0]]['latitude'],\n",
    "        resto_profile.iloc[i[0]]['longitude'])\n",
    "    )\n"
   ]
  },
  {
   "cell_type": "code",
   "execution_count": 154,
   "id": "21ffccc1-954d-479c-8db7-fa618c4740df",
   "metadata": {},
   "outputs": [],
   "source": [
    "recom = []\n",
    "for i in similar:\n",
    "    if i[1] > 0.7:\n",
    "        recom.append(i)\n",
    "    else:\n",
    "        pass\n",
    "\n",
    "import random\n",
    "rek = random.choices(recom, k = 5)"
   ]
  },
  {
   "cell_type": "code",
   "execution_count": 158,
   "id": "fb140c72-8657-4f08-af13-50104a292e20",
   "metadata": {},
   "outputs": [],
   "source": [
    "empty_list = []\n",
    "for i in rek:\n",
    "    reccom = {}\n",
    "    j = 0\n",
    "    while j < 8:\n",
    "        reccom['name'] = resto_profile.iloc[i[0]]['name'].title(),\n",
    "        reccom['city'] = resto_profile.iloc[i[0]]['city'],\n",
    "        reccom['alcohol'] = resto_profile.iloc[i[0]]['alcohol'],\n",
    "        reccom['smoking_area'] = resto_profile.iloc[i[0]]['smoking_area'],\n",
    "        reccom['dress_code'] = resto_profile.iloc[i[0]]['dress_code'],\n",
    "        reccom['price'] = resto_profile.iloc[i[0]]['price'],\n",
    "        reccom['Rambience'] = resto_profile.iloc[i[0]]['Rambience'],\n",
    "        reccom['area'] = resto_profile.iloc[i[0]]['area']\n",
    "        reccom['latitude'] = resto_profile.iloc[i[0]]['latitude']\n",
    "        reccom['longitude'] = resto_profile.iloc[i[0]]['longitude']\n",
    "        j += 1\n",
    "          \n",
    "    empty_list.append(reccom)"
   ]
  },
  {
   "cell_type": "code",
   "execution_count": 159,
   "id": "3aa3f5fd-8c8f-4e84-996d-cf2fb2b22990",
   "metadata": {},
   "outputs": [
    {
     "data": {
      "text/plain": [
       "[{'name': ('Vips',),\n",
       "  'city': ('Cuernavaca',),\n",
       "  'alcohol': ('Wine-Beer',),\n",
       "  'smoking_area': ('none',),\n",
       "  'dress_code': ('informal',),\n",
       "  'price': ('medium',),\n",
       "  'Rambience': ('familiar',),\n",
       "  'area': 'closed',\n",
       "  'latitude': 18.941859,\n",
       "  'longitude': -99.241927},\n",
       " {'name': ('Chilis Cuernavaca',),\n",
       "  'city': ('Cuernavaca',),\n",
       "  'alcohol': ('Wine-Beer',),\n",
       "  'smoking_area': ('none',),\n",
       "  'dress_code': ('informal',),\n",
       "  'price': ('medium',),\n",
       "  'Rambience': ('familiar',),\n",
       "  'area': 'closed',\n",
       "  'latitude': 18.932725,\n",
       "  'longitude': -99.225211},\n",
       " {'name': ('Restaurant Las Mananitas',),\n",
       "  'city': ('Cuernavaca',),\n",
       "  'alcohol': ('Wine-Beer',),\n",
       "  'smoking_area': ('none',),\n",
       "  'dress_code': ('formal',),\n",
       "  'price': ('high',),\n",
       "  'Rambience': ('familiar',),\n",
       "  'area': 'closed',\n",
       "  'latitude': 18.928798,\n",
       "  'longitude': -99.239513},\n",
       " {'name': ('Restaurant Teely',),\n",
       "  'city': ('Cuernavaca',),\n",
       "  'alcohol': ('Wine-Beer',),\n",
       "  'smoking_area': ('section',),\n",
       "  'dress_code': ('casual',),\n",
       "  'price': ('high',),\n",
       "  'Rambience': ('familiar',),\n",
       "  'area': 'closed',\n",
       "  'latitude': 18.936683,\n",
       "  'longitude': -99.247366},\n",
       " {'name': ('Restaurant Las Mananitas',),\n",
       "  'city': ('Cuernavaca',),\n",
       "  'alcohol': ('Wine-Beer',),\n",
       "  'smoking_area': ('none',),\n",
       "  'dress_code': ('formal',),\n",
       "  'price': ('high',),\n",
       "  'Rambience': ('familiar',),\n",
       "  'area': 'closed',\n",
       "  'latitude': 18.928798,\n",
       "  'longitude': -99.239513}]"
      ]
     },
     "execution_count": 159,
     "metadata": {},
     "output_type": "execute_result"
    }
   ],
   "source": [
    "empty_list"
   ]
  },
  {
   "cell_type": "code",
   "execution_count": 160,
   "id": "144f9946-a52c-4b80-b4ef-b4eba079be04",
   "metadata": {},
   "outputs": [
    {
     "data": {
      "text/html": [
       "<div>\n",
       "<style scoped>\n",
       "    .dataframe tbody tr th:only-of-type {\n",
       "        vertical-align: middle;\n",
       "    }\n",
       "\n",
       "    .dataframe tbody tr th {\n",
       "        vertical-align: top;\n",
       "    }\n",
       "\n",
       "    .dataframe thead th {\n",
       "        text-align: right;\n",
       "    }\n",
       "</style>\n",
       "<table border=\"1\" class=\"dataframe\">\n",
       "  <thead>\n",
       "    <tr style=\"text-align: right;\">\n",
       "      <th></th>\n",
       "      <th>name</th>\n",
       "      <th>city</th>\n",
       "      <th>alcohol</th>\n",
       "      <th>smoking_area</th>\n",
       "      <th>dress_code</th>\n",
       "      <th>price</th>\n",
       "      <th>Rambience</th>\n",
       "      <th>area</th>\n",
       "      <th>latitude</th>\n",
       "      <th>longitude</th>\n",
       "    </tr>\n",
       "  </thead>\n",
       "  <tbody>\n",
       "    <tr>\n",
       "      <th>0</th>\n",
       "      <td>(Vips,)</td>\n",
       "      <td>(Cuernavaca,)</td>\n",
       "      <td>(Wine-Beer,)</td>\n",
       "      <td>(none,)</td>\n",
       "      <td>(informal,)</td>\n",
       "      <td>(medium,)</td>\n",
       "      <td>(familiar,)</td>\n",
       "      <td>closed</td>\n",
       "      <td>18.941859</td>\n",
       "      <td>-99.241927</td>\n",
       "    </tr>\n",
       "    <tr>\n",
       "      <th>1</th>\n",
       "      <td>(Chilis Cuernavaca,)</td>\n",
       "      <td>(Cuernavaca,)</td>\n",
       "      <td>(Wine-Beer,)</td>\n",
       "      <td>(none,)</td>\n",
       "      <td>(informal,)</td>\n",
       "      <td>(medium,)</td>\n",
       "      <td>(familiar,)</td>\n",
       "      <td>closed</td>\n",
       "      <td>18.932725</td>\n",
       "      <td>-99.225211</td>\n",
       "    </tr>\n",
       "    <tr>\n",
       "      <th>2</th>\n",
       "      <td>(Restaurant Las Mananitas,)</td>\n",
       "      <td>(Cuernavaca,)</td>\n",
       "      <td>(Wine-Beer,)</td>\n",
       "      <td>(none,)</td>\n",
       "      <td>(formal,)</td>\n",
       "      <td>(high,)</td>\n",
       "      <td>(familiar,)</td>\n",
       "      <td>closed</td>\n",
       "      <td>18.928798</td>\n",
       "      <td>-99.239513</td>\n",
       "    </tr>\n",
       "    <tr>\n",
       "      <th>3</th>\n",
       "      <td>(Restaurant Teely,)</td>\n",
       "      <td>(Cuernavaca,)</td>\n",
       "      <td>(Wine-Beer,)</td>\n",
       "      <td>(section,)</td>\n",
       "      <td>(casual,)</td>\n",
       "      <td>(high,)</td>\n",
       "      <td>(familiar,)</td>\n",
       "      <td>closed</td>\n",
       "      <td>18.936683</td>\n",
       "      <td>-99.247366</td>\n",
       "    </tr>\n",
       "    <tr>\n",
       "      <th>4</th>\n",
       "      <td>(Restaurant Las Mananitas,)</td>\n",
       "      <td>(Cuernavaca,)</td>\n",
       "      <td>(Wine-Beer,)</td>\n",
       "      <td>(none,)</td>\n",
       "      <td>(formal,)</td>\n",
       "      <td>(high,)</td>\n",
       "      <td>(familiar,)</td>\n",
       "      <td>closed</td>\n",
       "      <td>18.928798</td>\n",
       "      <td>-99.239513</td>\n",
       "    </tr>\n",
       "  </tbody>\n",
       "</table>\n",
       "</div>"
      ],
      "text/plain": [
       "                          name           city       alcohol smoking_area  \\\n",
       "0                      (Vips,)  (Cuernavaca,)  (Wine-Beer,)      (none,)   \n",
       "1         (Chilis Cuernavaca,)  (Cuernavaca,)  (Wine-Beer,)      (none,)   \n",
       "2  (Restaurant Las Mananitas,)  (Cuernavaca,)  (Wine-Beer,)      (none,)   \n",
       "3          (Restaurant Teely,)  (Cuernavaca,)  (Wine-Beer,)   (section,)   \n",
       "4  (Restaurant Las Mananitas,)  (Cuernavaca,)  (Wine-Beer,)      (none,)   \n",
       "\n",
       "    dress_code      price    Rambience    area   latitude  longitude  \n",
       "0  (informal,)  (medium,)  (familiar,)  closed  18.941859 -99.241927  \n",
       "1  (informal,)  (medium,)  (familiar,)  closed  18.932725 -99.225211  \n",
       "2    (formal,)    (high,)  (familiar,)  closed  18.928798 -99.239513  \n",
       "3    (casual,)    (high,)  (familiar,)  closed  18.936683 -99.247366  \n",
       "4    (formal,)    (high,)  (familiar,)  closed  18.928798 -99.239513  "
      ]
     },
     "execution_count": 160,
     "metadata": {},
     "output_type": "execute_result"
    }
   ],
   "source": [
    "uu = pd.DataFrame(empty_list)\n",
    "uu"
   ]
  },
  {
   "cell_type": "code",
   "execution_count": 162,
   "id": "56b1e6e6-ae7b-4fc4-ac38-ffc62e898e2b",
   "metadata": {},
   "outputs": [
    {
     "data": {
      "text/html": [
       "<div>\n",
       "<style scoped>\n",
       "    .dataframe tbody tr th:only-of-type {\n",
       "        vertical-align: middle;\n",
       "    }\n",
       "\n",
       "    .dataframe tbody tr th {\n",
       "        vertical-align: top;\n",
       "    }\n",
       "\n",
       "    .dataframe thead th {\n",
       "        text-align: right;\n",
       "    }\n",
       "</style>\n",
       "<table border=\"1\" class=\"dataframe\">\n",
       "  <thead>\n",
       "    <tr style=\"text-align: right;\">\n",
       "      <th></th>\n",
       "      <th>name</th>\n",
       "      <th>latitude</th>\n",
       "      <th>longitude</th>\n",
       "    </tr>\n",
       "  </thead>\n",
       "  <tbody>\n",
       "    <tr>\n",
       "      <th>0</th>\n",
       "      <td>(Vips,)</td>\n",
       "      <td>18.941859</td>\n",
       "      <td>-99.241927</td>\n",
       "    </tr>\n",
       "    <tr>\n",
       "      <th>1</th>\n",
       "      <td>(Chilis Cuernavaca,)</td>\n",
       "      <td>18.932725</td>\n",
       "      <td>-99.225211</td>\n",
       "    </tr>\n",
       "    <tr>\n",
       "      <th>2</th>\n",
       "      <td>(Restaurant Las Mananitas,)</td>\n",
       "      <td>18.928798</td>\n",
       "      <td>-99.239513</td>\n",
       "    </tr>\n",
       "    <tr>\n",
       "      <th>3</th>\n",
       "      <td>(Restaurant Teely,)</td>\n",
       "      <td>18.936683</td>\n",
       "      <td>-99.247366</td>\n",
       "    </tr>\n",
       "    <tr>\n",
       "      <th>4</th>\n",
       "      <td>(Restaurant Las Mananitas,)</td>\n",
       "      <td>18.928798</td>\n",
       "      <td>-99.239513</td>\n",
       "    </tr>\n",
       "  </tbody>\n",
       "</table>\n",
       "</div>"
      ],
      "text/plain": [
       "                          name   latitude  longitude\n",
       "0                      (Vips,)  18.941859 -99.241927\n",
       "1         (Chilis Cuernavaca,)  18.932725 -99.225211\n",
       "2  (Restaurant Las Mananitas,)  18.928798 -99.239513\n",
       "3          (Restaurant Teely,)  18.936683 -99.247366\n",
       "4  (Restaurant Las Mananitas,)  18.928798 -99.239513"
      ]
     },
     "execution_count": 162,
     "metadata": {},
     "output_type": "execute_result"
    }
   ],
   "source": [
    "uu[[\"name\", \"latitude\", \"longitude\"]]"
   ]
  },
  {
   "cell_type": "code",
   "execution_count": 166,
   "id": "0b4a29ea-6589-456f-a407-2b4e7184e6cf",
   "metadata": {},
   "outputs": [
    {
     "data": {
      "text/plain": [
       "['model_rfc.sav']"
      ]
     },
     "execution_count": 166,
     "metadata": {},
     "output_type": "execute_result"
    }
   ],
   "source": [
    "filename = 'model_rfc.sav'\n",
    "joblib.dump(rfc_pipe, filename)"
   ]
  },
  {
   "cell_type": "code",
   "execution_count": null,
   "id": "d04d934d-e61d-4511-9a27-8eb7b5f4603d",
   "metadata": {},
   "outputs": [],
   "source": []
  }
 ],
 "metadata": {
  "kernelspec": {
   "display_name": "Python 3 (ipykernel)",
   "language": "python",
   "name": "python3"
  },
  "language_info": {
   "codemirror_mode": {
    "name": "ipython",
    "version": 3
   },
   "file_extension": ".py",
   "mimetype": "text/x-python",
   "name": "python",
   "nbconvert_exporter": "python",
   "pygments_lexer": "ipython3",
   "version": "3.9.6"
  }
 },
 "nbformat": 4,
 "nbformat_minor": 5
}
